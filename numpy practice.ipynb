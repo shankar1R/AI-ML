{
 "cells": [
  {
   "attachments": {},
   "cell_type": "markdown",
   "metadata": {},
   "source": [
    "numpy practies"
   ]
  },
  {
   "attachments": {},
   "cell_type": "markdown",
   "metadata": {},
   "source": [
    " Checking the numpy version(np.__version__)"
   ]
  },
  {
   "cell_type": "code",
   "execution_count": 74,
   "metadata": {},
   "outputs": [
    {
     "name": "stdout",
     "output_type": "stream",
     "text": [
      "1.24.3\n"
     ]
    }
   ],
   "source": [
    "import numpy as np\n",
    "\n",
    "print(np.__version__)# Checking the numpy version"
   ]
  },
  {
   "attachments": {},
   "cell_type": "markdown",
   "metadata": {},
   "source": [
    "array in numpy all dimentions (np.array)"
   ]
  },
  {
   "cell_type": "code",
   "execution_count": 5,
   "metadata": {},
   "outputs": [
    {
     "name": "stdout",
     "output_type": "stream",
     "text": [
      "20\n",
      "[1 2]\n",
      "[[[1 2]\n",
      "  [3 4]]\n",
      "\n",
      " [[8 6]\n",
      "  [9 3]]]\n",
      "[[[ 1  2  3]\n",
      "  [ 4  5  6]]\n",
      "\n",
      " [[ 7  8  9]\n",
      "  [11 12 13]]]\n",
      "[[[[1 2 3]\n",
      "   [4 5 6]]]]\n",
      "[[[[[ 1  2  3]\n",
      "    [ 4  5  6]]\n",
      "\n",
      "   [[ 7  8  9]\n",
      "    [11 12 13]]]]]\n"
     ]
    }
   ],
   "source": [
    "import numpy as np\n",
    "\n",
    "print(np.array(20)) # 0 Dimentation array \n",
    "\n",
    "print(np.array([1,2])) # 1 Dimentation array\n",
    "\n",
    "print(np.array([[[1,2],[3,4]],[[8,6],[9,3]]])) # 2 Dimentation array\n",
    "\n",
    "print(np.array([[[1,2,3],[4,5,6]],[[7,8,9],[11,12,13]]])) # 3 Dimentation array\n",
    "\n",
    "print(np.array([[[1,2,3],[4,5,6]]],ndmin=4))  # 4 Dimentation array\n",
    "\n",
    "print(np.array([[[1,2,3],[4,5,6]],[[7,8,9],[11,12,13]]],ndmin=5))  # 5 Dimentation array ( creating more than 3D array)"
   ]
  },
  {
   "attachments": {},
   "cell_type": "markdown",
   "metadata": {},
   "source": [
    "check Dimensions (np.ndim),(np.array)"
   ]
  },
  {
   "cell_type": "code",
   "execution_count": 8,
   "metadata": {},
   "outputs": [
    {
     "name": "stdout",
     "output_type": "stream",
     "text": [
      "0\n",
      "2\n",
      "10\n"
     ]
    }
   ],
   "source": [
    "#Check the  Dimentation\n",
    "a=np.array(23)\n",
    "b=np.array([[1,2],[3,4]])\n",
    "d=np.array([[1,2],[3,4]],ndmin=10)\n",
    "print(np.ndim(a))\n",
    "print(np.ndim(b))\n",
    "print(np.ndim(d))"
   ]
  },
  {
   "attachments": {},
   "cell_type": "markdown",
   "metadata": {},
   "source": [
    "Checking Shape of the array"
   ]
  },
  {
   "cell_type": "code",
   "execution_count": 1,
   "metadata": {},
   "outputs": [
    {
     "name": "stdout",
     "output_type": "stream",
     "text": [
      "(1, 1, 1, 2)\n",
      "(2, 3)\n",
      "(1, 1, 2, 3)\n"
     ]
    }
   ],
   "source": [
    "import numpy as np\n",
    "arr1=np.array([[1,2,3],[2,3,4]])\n",
    "arr2=np.array([1,2],ndmin=4)\n",
    "print(arr2.shape)\n",
    "print(np.shape(arr1))\n",
    "sh1=np.array([[[1,2,3],[4,5,6]]],ndmin=4)\n",
    "print(np.shape(sh1))"
   ]
  },
  {
   "attachments": {},
   "cell_type": "markdown",
   "metadata": {},
   "source": [
    "easily create an array filled with 0’s:"
   ]
  },
  {
   "cell_type": "code",
   "execution_count": 11,
   "metadata": {},
   "outputs": [
    {
     "name": "stdout",
     "output_type": "stream",
     "text": [
      "[0. 0. 0. 0. 0. 0. 0. 0. 0.]\n",
      "[[[0. 0. 0. 0.]\n",
      "  [0. 0. 0. 0.]\n",
      "  [0. 0. 0. 0.]\n",
      "  [0. 0. 0. 0.]\n",
      "  [0. 0. 0. 0.]\n",
      "  [0. 0. 0. 0.]\n",
      "  [0. 0. 0. 0.]\n",
      "  [0. 0. 0. 0.]\n",
      "  [0. 0. 0. 0.]\n",
      "  [0. 0. 0. 0.]]]\n",
      "[[[1. 1. 1. 1. 1. 1.]\n",
      "  [1. 1. 1. 1. 1. 1.]\n",
      "  [1. 1. 1. 1. 1. 1.]\n",
      "  [1. 1. 1. 1. 1. 1.]\n",
      "  [1. 1. 1. 1. 1. 1.]\n",
      "  [1. 1. 1. 1. 1. 1.]\n",
      "  [1. 1. 1. 1. 1. 1.]\n",
      "  [1. 1. 1. 1. 1. 1.]\n",
      "  [1. 1. 1. 1. 1. 1.]\n",
      "  [1. 1. 1. 1. 1. 1.]]]\n",
      "[1. 1. 1. 1. 1. 1. 1. 1. 1.]\n",
      "[0 1 2 3 4 5]\n",
      "[1 3 5 7 9]\n"
     ]
    }
   ],
   "source": [
    "import numpy as np\n",
    "\n",
    "print(np.zeros(9)) # create  an array filled with 0's \n",
    "\n",
    "print(np.zeros([1,10,4])) # create  an array filled with 0's \n",
    "\n",
    "print(np.ones([1,10,6])) # create  an array filled with 1's \n",
    "\n",
    "print(np.ones(9)) # create  an array filled with 1's \n",
    "\n",
    "print(np.arange(6)) # create an  array with a range of element\n",
    "\n",
    "print(np.arange(1,10,2)) # create an  array with a range of element"
   ]
  },
  {
   "attachments": {},
   "cell_type": "markdown",
   "metadata": {},
   "source": [
    "Sorting arrays"
   ]
  },
  {
   "cell_type": "code",
   "execution_count": 24,
   "metadata": {},
   "outputs": [
    {
     "name": "stdout",
     "output_type": "stream",
     "text": [
      "[1 2 3 4 5 6 6 7 8 9]\n",
      "['A' 'N' 'a' 'b' 'g' 'u' 'y']\n",
      "[[2 3 5]\n",
      " [2 5 9]]\n"
     ]
    }
   ],
   "source": [
    "import numpy as np\n",
    "\n",
    "print(np.sort((2,4,1,5,3,6,9,8,6,7,))) # numbers\n",
    "\n",
    "print(np.sort((\"b\",\"a\",\"A\",\"g\",\"y\",\"N\",\"u\"))) # alpabets\n",
    "\n",
    "print(np.sort([[5,2,3],[9,5,2]])) #2 D array\n",
    "\n"
   ]
  },
  {
   "attachments": {},
   "cell_type": "markdown",
   "metadata": {},
   "source": [
    "21/06/2023"
   ]
  },
  {
   "cell_type": "markdown",
   "metadata": {},
   "source": [
    "access an array element by referring to its index number."
   ]
  },
  {
   "cell_type": "code",
   "execution_count": 114,
   "metadata": {},
   "outputs": [
    {
     "name": "stdout",
     "output_type": "stream",
     "text": [
      "[1 2 3 4]\n"
     ]
    }
   ],
   "source": [
    "import numpy as np \n",
    "arr=np.array([1,2,3,4,5,6,7,8])\n",
    "\n",
    "print(arr[-8:-4])\n"
   ]
  },
  {
   "cell_type": "code",
   "execution_count": 167,
   "metadata": {},
   "outputs": [
    {
     "name": "stdout",
     "output_type": "stream",
     "text": [
      "[[[ 1  2  3]\n",
      "  [ 4  5  6]]\n",
      "\n",
      " [[ 7  8  9]\n",
      "  [10 11 12]]]\n",
      "value : 6\n",
      "[[[52 65 85]\n",
      "  [10 20 30]]\n",
      "\n",
      " [[40 50 60]\n",
      "  [70 80 90]]]\n",
      "value : 52\n"
     ]
    }
   ],
   "source": [
    "arr = np.array([[[1, 2, 3], [4, 5, 6]], [[7, 8, 9], [10, 11, 12]]])\n",
    "print(arr)\n",
    "print(\"value :\",arr[0, 1, 2])\n",
    "\n",
    "data=np.array([ [[52,65,85],[10,20,30]],[[40,50,60],[70,80,90]] ])\n",
    "print(data)\n",
    "print(\"value :\",data[0,0,0])\n"
   ]
  },
  {
   "cell_type": "code",
   "execution_count": 169,
   "metadata": {},
   "outputs": [
    {
     "name": "stdout",
     "output_type": "stream",
     "text": [
      "[1 2 3 4 5 6 7 8]\n",
      "value : [2 4 6]\n"
     ]
    }
   ],
   "source": [
    "arr=np.array([1,2,3,4,5,6,7,8])\n",
    "print(arr)\n",
    "print(\"value :\",arr[1:7:2])"
   ]
  },
  {
   "cell_type": "code",
   "execution_count": 177,
   "metadata": {},
   "outputs": [
    {
     "name": "stdout",
     "output_type": "stream",
     "text": [
      "value : [5 6 7]\n"
     ]
    }
   ],
   "source": [
    "arr1=np.array([[1,2,3,4],[5,6,7,8]])\n",
    "print(\"value :\",arr1[1,0:3])"
   ]
  },
  {
   "cell_type": "code",
   "execution_count": 198,
   "metadata": {},
   "outputs": [
    {
     "name": "stdout",
     "output_type": "stream",
     "text": [
      "(array([0, 3, 6, 7], dtype=int64),)\n",
      "(array([1, 3, 5, 7, 8], dtype=int64),)\n",
      "(array([3, 7], dtype=int64),)\n"
     ]
    }
   ],
   "source": [
    "arr=np.array([1,2,3,4,5,6,7,4,8,])\n",
    "x=(np.where(arr%3==1))\n",
    "z=(np.where(arr%2==0))\n",
    "print(x)\n",
    "print(z) # using this condition divisabel by which number divisabel by 2 give the those index number\n",
    "\n",
    "y=(np.where(arr==4))\n",
    "print(y)# using this condition give the repeated value of 4\n",
    "\n",
    "\n"
   ]
  },
  {
   "attachments": {},
   "cell_type": "markdown",
   "metadata": {},
   "source": [
    "Search sorted array"
   ]
  },
  {
   "cell_type": "code",
   "execution_count": 213,
   "metadata": {},
   "outputs": [
    {
     "name": "stdout",
     "output_type": "stream",
     "text": [
      "3\n",
      "6\n",
      "[0 6 3 0]\n"
     ]
    }
   ],
   "source": [
    "arr2=np.array([1,2,3,5,6,7])\n",
    "print(np.searchsorted(arr,4))\n",
    "\n",
    "print(np.searchsorted([1,2,3,5,6,7],8,side=\"right\"))\n",
    "\n",
    "print(np.searchsorted([1,2,3,5,6,7],[-2,10,5,-4]))\n"
   ]
  },
  {
   "cell_type": "code",
   "execution_count": 244,
   "metadata": {},
   "outputs": [
    {
     "name": "stdout",
     "output_type": "stream",
     "text": [
      "[[ 1  2  3]\n",
      " [ 5  4  6]\n",
      " [ 7  8  9]\n",
      " [10 11 12]]\n",
      "[1 2 3 4 5 6 7 8]\n"
     ]
    }
   ],
   "source": [
    "import numpy as np\n",
    "arr2=np.array([1,2,3,5,4,6,7,8,9,10,11,12])\n",
    "newarr=arr2.reshape(4,3)\n",
    "print(newarr)\n",
    "\n",
    "\n",
    "arr1=np.array([[1,2,3,4],[5,6,7,8]])\n",
    "x=arr1.reshape(-1)\n",
    "print(x)"
   ]
  },
  {
   "attachments": {},
   "cell_type": "markdown",
   "metadata": {},
   "source": [
    "Filtering array"
   ]
  },
  {
   "cell_type": "code",
   "execution_count": 6,
   "metadata": {},
   "outputs": [
    {
     "name": "stdout",
     "output_type": "stream",
     "text": [
      "[10 30 50]\n"
     ]
    }
   ],
   "source": [
    "import numpy as np \n",
    "arr1=np.array([10,20,30,40,50,])\n",
    "b=[True,False,True,False,True]\n",
    "newarr=arr1[b]\n",
    "print(newarr)"
   ]
  },
  {
   "attachments": {},
   "cell_type": "markdown",
   "metadata": {},
   "source": [
    "Filtering array using lamda function"
   ]
  },
  {
   "cell_type": "code",
   "execution_count": 16,
   "metadata": {},
   "outputs": [
    {
     "name": "stdout",
     "output_type": "stream",
     "text": [
      "[3, 5, 7, 9]\n",
      "[12, 4, 6, 8, 10]\n"
     ]
    }
   ],
   "source": [
    "import numpy as np\n",
    "\n",
    "ar=np.array([12,3,4,5,6,7,8,9,10])\n",
    "#Filtering the only odd number using lamda function\n",
    "result=filter(lambda x:x%2!=0,ar)\n",
    "print(list(result)) \n",
    "#Filtering the only even number using lamda function\n",
    "result=filter(lambda x:x%2==0,ar)\n",
    "print(list(result))"
   ]
  },
  {
   "cell_type": "code",
   "execution_count": 15,
   "metadata": {},
   "outputs": [
    {
     "name": "stdout",
     "output_type": "stream",
     "text": [
      "{9, 3, 5, 7}\n",
      "{4, 6, 8, 10, 12}\n"
     ]
    }
   ],
   "source": [
    "import numpy as np\n",
    "\n",
    "ar=np.array([12,3,4,5,6,7,8,9,10])\n",
    "#Filtering the only odd number using lamda function\n",
    "result=filter(lambda x:x%2!=0,ar)\n",
    "print(set(result))\n",
    "#Filtering the only even number using lamda function\n",
    "result=filter(lambda x:x%2==0,ar)\n",
    "print(set(result))"
   ]
  },
  {
   "attachments": {},
   "cell_type": "markdown",
   "metadata": {},
   "source": [
    "Concatenate()\n"
   ]
  },
  {
   "cell_type": "code",
   "execution_count": 24,
   "metadata": {},
   "outputs": [
    {
     "name": "stdout",
     "output_type": "stream",
     "text": [
      "[[0 1 2 3 4]\n",
      " [5 6 7 8 9]]\n",
      "[[ 7  8  9 10 11]\n",
      " [12 13 14 15 16]]\n"
     ]
    },
    {
     "data": {
      "text/plain": [
       "array([[ 0,  1,  2,  3,  4],\n",
       "       [ 5,  6,  7,  8,  9],\n",
       "       [ 7,  8,  9, 10, 11],\n",
       "       [12, 13, 14, 15, 16]])"
      ]
     },
     "execution_count": 24,
     "metadata": {},
     "output_type": "execute_result"
    }
   ],
   "source": [
    "import numpy as np\n",
    "\n",
    "a=np.arange(6).reshape(2,3)\n",
    "print(a)\n",
    "\n",
    "b=np.arange(7,17).reshape(2,5)\n",
    "print(b)\n",
    "\n",
    "np.concatenate((a,b))\n",
    "\n"
   ]
  },
  {
   "cell_type": "code",
   "execution_count": 109,
   "metadata": {},
   "outputs": [
    {
     "name": "stdout",
     "output_type": "stream",
     "text": [
      "a: [[0 1 2 3 4]\n",
      " [5 6 7 8 9]]\n",
      "b : [[ 7  8  9 10 11]\n",
      " [12 13 14 15 16]]\n",
      "x [[ 1  3  5  7  9]\n",
      " [11 13 15 17 19]]\n",
      "y [[21 23 25 27 29]\n",
      " [31 33 35 37 39]]\n"
     ]
    },
    {
     "data": {
      "text/plain": [
       "array([[ 0,  1,  2,  3,  4],\n",
       "       [ 5,  6,  7,  8,  9],\n",
       "       [ 7,  8,  9, 10, 11],\n",
       "       [12, 13, 14, 15, 16],\n",
       "       [ 1,  3,  5,  7,  9],\n",
       "       [11, 13, 15, 17, 19],\n",
       "       [21, 23, 25, 27, 29],\n",
       "       [31, 33, 35, 37, 39]])"
      ]
     },
     "execution_count": 109,
     "metadata": {},
     "output_type": "execute_result"
    }
   ],
   "source": [
    "import numpy as np\n",
    "\n",
    "\n",
    "a=np.arange(10).reshape(2,5)\n",
    "print(\"a:\",a)\n",
    "\n",
    "\n",
    "b=np.arange(7,17).reshape(2,5)\n",
    "print(\"b :\",b)\n",
    "\n",
    "x=np.arange(1,20,2).reshape(2,5)\n",
    "print(\"x\",x)\n",
    "\n",
    "\n",
    "y=np.arange(21,40,2).reshape(2,5)\n",
    "print(\"y\",y)\n",
    "\n",
    "np.concatenate((a,b,x,y))\n",
    "\n",
    "\n"
   ]
  },
  {
   "cell_type": "code",
   "execution_count": 21,
   "metadata": {},
   "outputs": [
    {
     "name": "stdout",
     "output_type": "stream",
     "text": [
      "a: [[0 1 2]\n",
      " [3 4 5]]\n",
      "b : [[ 7  8  9]\n",
      " [10 11 12]]\n"
     ]
    },
    {
     "data": {
      "text/plain": [
       "array([[ 0,  1,  2,  7,  8,  9],\n",
       "       [ 3,  4,  5, 10, 11, 12]])"
      ]
     },
     "execution_count": 21,
     "metadata": {},
     "output_type": "execute_result"
    }
   ],
   "source": [
    "\n",
    "a=np.arange(6).reshape(2,3)\n",
    "print(\"a:\",a)\n",
    "\n",
    "\n",
    "b=np.arange(7,13).reshape(2,3)\n",
    "print(\"b :\",b)\n",
    "\n",
    "np.concatenate((a,b),axis=1)\n",
    "\n"
   ]
  },
  {
   "cell_type": "code",
   "execution_count": 103,
   "metadata": {},
   "outputs": [
    {
     "name": "stdout",
     "output_type": "stream",
     "text": [
      "a: [[0 1 2]\n",
      " [3 4 5]]\n",
      "b : [[ 7  8  9]\n",
      " [10 11 12]]\n"
     ]
    },
    {
     "data": {
      "text/plain": [
       "array([[[ 0,  7],\n",
       "        [ 1,  8],\n",
       "        [ 2,  9]],\n",
       "\n",
       "       [[ 3, 10],\n",
       "        [ 4, 11],\n",
       "        [ 5, 12]]])"
      ]
     },
     "execution_count": 103,
     "metadata": {},
     "output_type": "execute_result"
    }
   ],
   "source": [
    "\n",
    "a=np.arange(6).reshape(2,3)\n",
    "print(\"a:\",a)\n",
    "\n",
    "\n",
    "b=np.arange(7,13).reshape(2,3)\n",
    "print(\"b :\",b)\n",
    "np.stack((a,b),axis=2)"
   ]
  },
  {
   "attachments": {},
   "cell_type": "markdown",
   "metadata": {},
   "source": [
    "Vstack"
   ]
  },
  {
   "cell_type": "code",
   "execution_count": 3,
   "metadata": {},
   "outputs": [
    {
     "name": "stdout",
     "output_type": "stream",
     "text": [
      "a: [[0 1 2 3 4]\n",
      " [5 6 7 8 9]]\n",
      "b : [[ 7  8  9 10 11]\n",
      " [12 13 14 15 16]]\n",
      "[[ 0  1  2  3  4]\n",
      " [ 5  6  7  8  9]\n",
      " [ 7  8  9 10 11]\n",
      " [12 13 14 15 16]]\n",
      "[[ 0  1  2  3  4  7  8  9 10 11]\n",
      " [ 5  6  7  8  9 12 13 14 15 16]]\n"
     ]
    }
   ],
   "source": [
    "import numpy as np\n",
    "\n",
    "\n",
    "a=np.arange(10).reshape(2,5)\n",
    "print(\"a:\",a)\n",
    "\n",
    "\n",
    "b=np.arange(7,17).reshape(2,5)\n",
    "print(\"b :\",b)\n",
    "\n",
    "\n",
    "print(np.vstack((a,b)))\n",
    "\n",
    "#Hstack\n",
    "print(np.hstack((a,b)))"
   ]
  },
  {
   "attachments": {},
   "cell_type": "markdown",
   "metadata": {},
   "source": [
    "dstack"
   ]
  },
  {
   "cell_type": "code",
   "execution_count": 141,
   "metadata": {},
   "outputs": [
    {
     "name": "stdout",
     "output_type": "stream",
     "text": [
      "[[[ 1 21]\n",
      "  [ 3 23]\n",
      "  [ 5 25]\n",
      "  [ 7 27]\n",
      "  [ 9 29]]\n",
      "\n",
      " [[11 31]\n",
      "  [13 33]\n",
      "  [15 35]\n",
      "  [17 37]\n",
      "  [19 39]]]\n",
      "[ 9 29]\n"
     ]
    }
   ],
   "source": [
    "# using of dstack is axic the matrix\n",
    "ar=np.dstack((x,y))\n",
    "print(ar)\n",
    "print(ar[0,4])"
   ]
  },
  {
   "cell_type": "markdown",
   "metadata": {},
   "source": [
    "Array Atributes"
   ]
  },
  {
   "cell_type": "code",
   "execution_count": 18,
   "metadata": {},
   "outputs": [
    {
     "name": "stdout",
     "output_type": "stream",
     "text": [
      "(2, 4)\n"
     ]
    }
   ],
   "source": [
    "#SHAPE\n",
    "import numpy as np\n",
    "\n",
    "arr=np.array([[1,2,3,4],[5,6,7,8]])\n",
    "shape=arr.shape # Find the shape  of the array \n",
    "print(shape)"
   ]
  },
  {
   "cell_type": "code",
   "execution_count": 26,
   "metadata": {},
   "outputs": [
    {
     "name": "stdout",
     "output_type": "stream",
     "text": [
      "3\n"
     ]
    }
   ],
   "source": [
    "#NDIM\n",
    "\n",
    "arr=np.array([[[1,2,3,4],[5,6,7,8]]])\n",
    "print(arr.ndim)# count the dimension"
   ]
  },
  {
   "cell_type": "code",
   "execution_count": 27,
   "metadata": {},
   "outputs": [
    {
     "name": "stdout",
     "output_type": "stream",
     "text": [
      "int32\n"
     ]
    }
   ],
   "source": [
    "#DTYPE (DATA TYPE)\n",
    "\n",
    "arr=np.array([[[1,2,3,4],[5,6,7,8]]])\n",
    "print(arr.dtype) # used to create  data type object"
   ]
  },
  {
   "cell_type": "code",
   "execution_count": 34,
   "metadata": {},
   "outputs": [
    {
     "name": "stdout",
     "output_type": "stream",
     "text": [
      "12\n"
     ]
    }
   ],
   "source": [
    "#SIZE\n",
    "\n",
    "arr=np.array([[1,2,3,4],[5,6,7,8],[9,8,7,5]])\n",
    "print(arr.size) # Find the size of the array"
   ]
  },
  {
   "cell_type": "markdown",
   "metadata": {},
   "source": [
    "Array indexing and slicing"
   ]
  },
  {
   "cell_type": "code",
   "execution_count": 38,
   "metadata": {},
   "outputs": [
    {
     "name": "stdout",
     "output_type": "stream",
     "text": [
      "[5 6 7 8]\n",
      "3\n"
     ]
    }
   ],
   "source": [
    "#index\n",
    "arr=np.array([[1,2,3,4],[5,6,7,8]])\n",
    "print(arr[1])\n",
    "print(arr[0,2]) #Find the perticular element using index\n"
   ]
  },
  {
   "cell_type": "code",
   "execution_count": 45,
   "metadata": {},
   "outputs": [
    {
     "name": "stdout",
     "output_type": "stream",
     "text": [
      "[[0 1 2 3 4]\n",
      " [5 6 7 8 9]]\n",
      "[[1 2]\n",
      " [6 7]]\n"
     ]
    }
   ],
   "source": [
    "a=np.arange(10).reshape(2,5)\n",
    "print(a)\n",
    "print(a[0:2,1:3]) #subarray"
   ]
  },
  {
   "cell_type": "markdown",
   "metadata": {},
   "source": [
    "Reshaping "
   ]
  },
  {
   "cell_type": "code",
   "execution_count": 64,
   "metadata": {},
   "outputs": [
    {
     "name": "stdout",
     "output_type": "stream",
     "text": [
      "[[0 1 2 3 4]\n",
      " [5 6 7 8 9]]\n",
      "[[0 1]\n",
      " [2 3]\n",
      " [4 5]\n",
      " [6 7]\n",
      " [8 9]]\n",
      "[0 1 2 3 4 5 6 7 8 9]\n",
      "[[0 5]\n",
      " [1 6]\n",
      " [2 7]\n",
      " [3 8]\n",
      " [4 9]]\n"
     ]
    }
   ],
   "source": [
    "a=np.arange(10).reshape(2,5)\n",
    "print(a)\n",
    "print(a.reshape(5,2)) # reshape the aray\n",
    "print(a.flatten())# convert to on edimension\n",
    "Transpose=a.T\n",
    "print(Transpose) # convert row to column and column to row"
   ]
  },
  {
   "cell_type": "markdown",
   "metadata": {},
   "source": [
    "Array operation"
   ]
  },
  {
   "cell_type": "code",
   "execution_count": 14,
   "metadata": {},
   "outputs": [
    {
     "name": "stdout",
     "output_type": "stream",
     "text": [
      "[[1 2 3]\n",
      " [4 5 6]\n",
      " [5 2 6]]\n",
      "[[9 8 7]\n",
      " [6 5 4]\n",
      " [2 6 4]]\n",
      "---------------------------------------\n",
      "[[10 10 10]\n",
      " [10 10 10]\n",
      " [ 7  8 10]]\n",
      "---------------------------------------\n",
      "[[-8 -6 -4]\n",
      " [-2  0  2]\n",
      " [ 3 -4  2]]\n",
      "---------------------------------------\n",
      "[[ 9 16 21]\n",
      " [24 25 24]\n",
      " [10 12 24]]\n",
      "---------------------------------------\n",
      "[[0.11111111 0.25       0.42857143]\n",
      " [0.66666667 1.         1.5       ]\n",
      " [2.5        0.33333333 1.5       ]]\n",
      "---------------------------------------\n",
      "[[0 0 0]\n",
      " [0 1 1]\n",
      " [2 0 1]]\n",
      "---------------------------------------\n"
     ]
    }
   ],
   "source": [
    "arr1=np.array([[1,2,3],[4,5,6],[5,2,6]])\n",
    "print(arr1)\n",
    "arr2=np.array([[9,8,7],[6,5,4],[2,6,4]])\n",
    "print(arr2)\n",
    "print(\"---------------------------------------\")\n",
    "#1 ADDITION\n",
    "sum=arr1+arr2\n",
    "print(sum)\n",
    "print(\"---------------------------------------\")\n",
    "#SUBTRACTION\n",
    "sub=arr1-arr2\n",
    "print(sub)\n",
    "print(\"---------------------------------------\")\n",
    "#MULTIPLICATION\n",
    "multi=arr1*arr2\n",
    "print(multi)\n",
    "print(\"---------------------------------------\")\n",
    "#DIVISION\n",
    "Dvision=arr1/arr2\n",
    "print(Dvision)\n",
    "print(\"---------------------------------------\")\n",
    "#FLOAR DIVISION\n",
    "Div=arr1//arr2\n",
    "print(Div)\n",
    "print(\"---------------------------------------\")\n"
   ]
  },
  {
   "cell_type": "code",
   "execution_count": 27,
   "metadata": {},
   "outputs": [
    {
     "name": "stdout",
     "output_type": "stream",
     "text": [
      "[[1 2 3]\n",
      " [4 5 6]\n",
      " [5 2 6]] [[9 8 7]\n",
      " [6 5 4]\n",
      " [2 6 4]]\n",
      "---------------------------------------\n",
      "Dot product [[27 36 27]\n",
      " [78 93 72]\n",
      " [69 86 67]]\n",
      "---------------------------------------\n",
      "exp : [[  2.71828183   7.3890561   20.08553692]\n",
      " [ 54.59815003 148.4131591  403.42879349]\n",
      " [148.4131591    7.3890561  403.42879349]]\n",
      "---------------------------------------\n",
      "log : [[0.         0.69314718 1.09861229]\n",
      " [1.38629436 1.60943791 1.79175947]\n",
      " [1.60943791 0.69314718 1.79175947]]\n",
      "-----------\n",
      "[[0.         1.         1.5849625 ]\n",
      " [2.         2.32192809 2.5849625 ]\n",
      " [2.32192809 1.         2.5849625 ]]\n",
      "---------------------------------------\n",
      "Sin : [7.07106781e-01 8.66025404e-01 9.65925826e-01 1.00000000e+00\n",
      " 1.22464680e-16]\n"
     ]
    }
   ],
   "source": [
    "import numpy as np\n",
    "import matplotlib.pyplot as plt\n",
    "arr1=np.array([[1,2,3],[4,5,6],[5,2,6]])\n",
    "arr2=np.array([[9,8,7],[6,5,4],[2,6,4]])\n",
    "print(arr1,arr2)\n",
    "print(\"---------------------------------------\")\n",
    "# dot product\n",
    "print(\"Dot product\",np.dot(arr1,arr2))\n",
    "print(\"---------------------------------------\")\n",
    "#EXP\n",
    "print(\"exp :\",np.exp(arr1))\n",
    "print(\"---------------------------------------\")\n",
    "print(\"log :\",np.log(arr1))\n",
    "print(\"-----------\")\n",
    "result1=np.log2(arr1)\n",
    "print(result)\n",
    "\n",
    "print(\"---------------------------------------\")\n",
    "sin=(np.array((45.,60.,75.,90.,180.))* np.pi / 180.)\n",
    "print(\"Sin :\",np.sin(sin)) #Print sines of an array of angles given in degrees"
   ]
  },
  {
   "cell_type": "markdown",
   "metadata": {},
   "source": [
    "Statistical function"
   ]
  },
  {
   "cell_type": "code",
   "execution_count": 31,
   "metadata": {},
   "outputs": [
    {
     "name": "stdout",
     "output_type": "stream",
     "text": [
      "Mean : 5.666666666666667\n",
      "Median : 6.0\n",
      "Standard deviation : 2.054804667656325\n"
     ]
    }
   ],
   "source": [
    "arr2=np.array([[9,8,7],[6,5,4],[2,6,4]])\n",
    "print(\"Mean :\",np.mean(arr2)) # Find the mean value of the array\n",
    "print(\"Median :\",np.median(arr2))#Find the median value of the array\n",
    "print(\"Standard deviation :\",np.std(arr2))#Find the Std_dev value of the array"
   ]
  },
  {
   "cell_type": "code",
   "execution_count": 41,
   "metadata": {},
   "outputs": [
    {
     "name": "stdout",
     "output_type": "stream",
     "text": [
      "a: [[0 1 2]\n",
      " [3 4 5]]\n",
      "b : [[ 7  8  9]\n",
      " [10 11 12]]\n",
      "x : [[1 2 3]\n",
      " [4 5 6]\n",
      " [7 8 9]]\n",
      "a,b,x Concatenate : [[ 0  1  2]\n",
      " [ 3  4  5]\n",
      " [ 7  8  9]\n",
      " [10 11 12]\n",
      " [ 1  2  3]\n",
      " [ 4  5  6]\n",
      " [ 7  8  9]]\n",
      "x,b concatenate : [[ 1  2  3]\n",
      " [ 4  5  6]\n",
      " [ 7  8  9]\n",
      " [ 7  8  9]\n",
      " [10 11 12]]\n"
     ]
    }
   ],
   "source": [
    "a=np.arange(6).reshape(2,3)\n",
    "print(\"a:\",a)\n",
    "\n",
    "b=np.arange(7,13).reshape(2,3)\n",
    "print(\"b :\",b)\n",
    "\n",
    "x=np.arange(1,10).reshape(3,3)\n",
    "print(\"x :\",x)\n",
    "print(\"a,b,x Concatenate :\",np.concatenate((a,b,x),axis=0))\n",
    "\n",
    "print(\"x,b concatenate :\",np.concatenate((x,b),axis=0))\n"
   ]
  },
  {
   "cell_type": "markdown",
   "metadata": {},
   "source": [
    "Missing value"
   ]
  },
  {
   "cell_type": "code",
   "execution_count": 59,
   "metadata": {},
   "outputs": [
    {
     "name": "stdout",
     "output_type": "stream",
     "text": [
      "IS NAN : False\n",
      "IS NAN : True\n"
     ]
    }
   ],
   "source": [
    "print(\"IS NAN :\" ,np.isnan(1))\n",
    "print(\"IS NAN :\" ,np.isnan(np.nan))"
   ]
  },
  {
   "cell_type": "code",
   "execution_count": null,
   "metadata": {},
   "outputs": [],
   "source": []
  }
 ],
 "metadata": {
  "kernelspec": {
   "display_name": "Python 3",
   "language": "python",
   "name": "python3"
  },
  "language_info": {
   "codemirror_mode": {
    "name": "ipython",
    "version": 3
   },
   "file_extension": ".py",
   "mimetype": "text/x-python",
   "name": "python",
   "nbconvert_exporter": "python",
   "pygments_lexer": "ipython3",
   "version": "3.11.3"
  },
  "orig_nbformat": 4
 },
 "nbformat": 4,
 "nbformat_minor": 2
}
