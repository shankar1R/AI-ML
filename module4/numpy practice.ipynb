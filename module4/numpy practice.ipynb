{
 "cells": [
  {
   "attachments": {},
   "cell_type": "markdown",
   "metadata": {},
   "source": [
    "numpy practies"
   ]
  },
  {
   "attachments": {},
   "cell_type": "markdown",
   "metadata": {},
   "source": [
    " Checking the numpy version(np.__version__)"
   ]
  },
  {
   "cell_type": "code",
   "execution_count": 74,
   "metadata": {},
   "outputs": [
    {
     "name": "stdout",
     "output_type": "stream",
     "text": [
      "1.24.3\n"
     ]
    }
   ],
   "source": [
    "import numpy as np\n",
    "\n",
    "print(np.__version__)# Checking the numpy version"
   ]
  },
  {
   "attachments": {},
   "cell_type": "markdown",
   "metadata": {},
   "source": [
    "array in numpy all dimentions (np.array)"
   ]
  },
  {
   "cell_type": "code",
   "execution_count": 5,
   "metadata": {},
   "outputs": [
    {
     "name": "stdout",
     "output_type": "stream",
     "text": [
      "20\n",
      "[1 2]\n",
      "[[[1 2]\n",
      "  [3 4]]\n",
      "\n",
      " [[8 6]\n",
      "  [9 3]]]\n",
      "[[[ 1  2  3]\n",
      "  [ 4  5  6]]\n",
      "\n",
      " [[ 7  8  9]\n",
      "  [11 12 13]]]\n",
      "[[[[1 2 3]\n",
      "   [4 5 6]]]]\n",
      "[[[[[ 1  2  3]\n",
      "    [ 4  5  6]]\n",
      "\n",
      "   [[ 7  8  9]\n",
      "    [11 12 13]]]]]\n"
     ]
    }
   ],
   "source": [
    "import numpy as np\n",
    "\n",
    "print(np.array(20)) # 0 Dimentation array \n",
    "\n",
    "print(np.array([1,2])) # 1 Dimentation array\n",
    "\n",
    "print(np.array([[[1,2],[3,4]],[[8,6],[9,3]]])) # 2 Dimentation array\n",
    "\n",
    "print(np.array([[[1,2,3],[4,5,6]],[[7,8,9],[11,12,13]]])) # 3 Dimentation array\n",
    "\n",
    "print(np.array([[[1,2,3],[4,5,6]]],ndmin=4))  # 4 Dimentation array\n",
    "\n",
    "print(np.array([[[1,2,3],[4,5,6]],[[7,8,9],[11,12,13]]],ndmin=5))  # 5 Dimentation array ( creating more than 3D array)"
   ]
  },
  {
   "attachments": {},
   "cell_type": "markdown",
   "metadata": {},
   "source": [
    "check Dimensions (np.ndim),(np.array)"
   ]
  },
  {
   "cell_type": "code",
   "execution_count": 8,
   "metadata": {},
   "outputs": [
    {
     "name": "stdout",
     "output_type": "stream",
     "text": [
      "0\n",
      "2\n",
      "10\n"
     ]
    }
   ],
   "source": [
    "#Check the  Dimentation\n",
    "a=np.array(23)\n",
    "b=np.array([[1,2],[3,4]])\n",
    "d=np.array([[1,2],[3,4]],ndmin=10)\n",
    "print(np.ndim(a))\n",
    "print(np.ndim(b))\n",
    "print(np.ndim(d))"
   ]
  },
  {
   "attachments": {},
   "cell_type": "markdown",
   "metadata": {},
   "source": [
    "Checking Shape of the array"
   ]
  },
  {
   "cell_type": "code",
   "execution_count": 1,
   "metadata": {},
   "outputs": [
    {
     "name": "stdout",
     "output_type": "stream",
     "text": [
      "(1, 1, 1, 2)\n",
      "(2, 3)\n",
      "(1, 1, 2, 3)\n"
     ]
    }
   ],
   "source": [
    "import numpy as np\n",
    "arr1=np.array([[1,2,3],[2,3,4]])\n",
    "arr2=np.array([1,2],ndmin=4)\n",
    "print(arr2.shape)\n",
    "print(np.shape(arr1))\n",
    "sh1=np.array([[[1,2,3],[4,5,6]]],ndmin=4)\n",
    "print(np.shape(sh1))"
   ]
  },
  {
   "attachments": {},
   "cell_type": "markdown",
   "metadata": {},
   "source": [
    "easily create an array filled with 0’s:"
   ]
  },
  {
   "cell_type": "code",
   "execution_count": 11,
   "metadata": {},
   "outputs": [
    {
     "name": "stdout",
     "output_type": "stream",
     "text": [
      "[0. 0. 0. 0. 0. 0. 0. 0. 0.]\n",
      "[[[0. 0. 0. 0.]\n",
      "  [0. 0. 0. 0.]\n",
      "  [0. 0. 0. 0.]\n",
      "  [0. 0. 0. 0.]\n",
      "  [0. 0. 0. 0.]\n",
      "  [0. 0. 0. 0.]\n",
      "  [0. 0. 0. 0.]\n",
      "  [0. 0. 0. 0.]\n",
      "  [0. 0. 0. 0.]\n",
      "  [0. 0. 0. 0.]]]\n",
      "[[[1. 1. 1. 1. 1. 1.]\n",
      "  [1. 1. 1. 1. 1. 1.]\n",
      "  [1. 1. 1. 1. 1. 1.]\n",
      "  [1. 1. 1. 1. 1. 1.]\n",
      "  [1. 1. 1. 1. 1. 1.]\n",
      "  [1. 1. 1. 1. 1. 1.]\n",
      "  [1. 1. 1. 1. 1. 1.]\n",
      "  [1. 1. 1. 1. 1. 1.]\n",
      "  [1. 1. 1. 1. 1. 1.]\n",
      "  [1. 1. 1. 1. 1. 1.]]]\n",
      "[1. 1. 1. 1. 1. 1. 1. 1. 1.]\n",
      "[0 1 2 3 4 5]\n",
      "[1 3 5 7 9]\n"
     ]
    }
   ],
   "source": [
    "import numpy as np\n",
    "\n",
    "print(np.zeros(9)) # create  an array filled with 0's \n",
    "\n",
    "print(np.zeros([1,10,4])) # create  an array filled with 0's \n",
    "\n",
    "print(np.ones([1,10,6])) # create  an array filled with 1's \n",
    "\n",
    "print(np.ones(9)) # create  an array filled with 1's \n",
    "\n",
    "print(np.arange(6)) # create an  array with a range of element\n",
    "\n",
    "print(np.arange(1,10,2)) # create an  array with a range of element"
   ]
  },
  {
   "attachments": {},
   "cell_type": "markdown",
   "metadata": {},
   "source": [
    "Sorting arrays"
   ]
  },
  {
   "cell_type": "code",
   "execution_count": 24,
   "metadata": {},
   "outputs": [
    {
     "name": "stdout",
     "output_type": "stream",
     "text": [
      "[1 2 3 4 5 6 6 7 8 9]\n",
      "['A' 'N' 'a' 'b' 'g' 'u' 'y']\n",
      "[[2 3 5]\n",
      " [2 5 9]]\n"
     ]
    }
   ],
   "source": [
    "import numpy as np\n",
    "\n",
    "print(np.sort((2,4,1,5,3,6,9,8,6,7,))) # numbers\n",
    "\n",
    "print(np.sort((\"b\",\"a\",\"A\",\"g\",\"y\",\"N\",\"u\"))) # alpabets\n",
    "\n",
    "print(np.sort([[5,2,3],[9,5,2]])) #2 D array\n",
    "\n"
   ]
  },
  {
   "attachments": {},
   "cell_type": "markdown",
   "metadata": {},
   "source": [
    "21/06/2023"
   ]
  },
  {
   "cell_type": "markdown",
   "metadata": {},
   "source": [
    "access an array element by referring to its index number."
   ]
  },
  {
   "cell_type": "code",
   "execution_count": 114,
   "metadata": {},
   "outputs": [
    {
     "name": "stdout",
     "output_type": "stream",
     "text": [
      "[1 2 3 4]\n"
     ]
    }
   ],
   "source": [
    "import numpy as np \n",
    "arr=np.array([1,2,3,4,5,6,7,8])\n",
    "\n",
    "print(arr[-8:-4])\n"
   ]
  },
  {
   "cell_type": "code",
   "execution_count": 167,
   "metadata": {},
   "outputs": [
    {
     "name": "stdout",
     "output_type": "stream",
     "text": [
      "[[[ 1  2  3]\n",
      "  [ 4  5  6]]\n",
      "\n",
      " [[ 7  8  9]\n",
      "  [10 11 12]]]\n",
      "value : 6\n",
      "[[[52 65 85]\n",
      "  [10 20 30]]\n",
      "\n",
      " [[40 50 60]\n",
      "  [70 80 90]]]\n",
      "value : 52\n"
     ]
    }
   ],
   "source": [
    "arr = np.array([[[1, 2, 3], [4, 5, 6]], [[7, 8, 9], [10, 11, 12]]])\n",
    "print(arr)\n",
    "print(\"value :\",arr[0, 1, 2])\n",
    "\n",
    "data=np.array([ [[52,65,85],[10,20,30]],[[40,50,60],[70,80,90]] ])\n",
    "print(data)\n",
    "print(\"value :\",data[0,0,0])\n"
   ]
  },
  {
   "cell_type": "code",
   "execution_count": 169,
   "metadata": {},
   "outputs": [
    {
     "name": "stdout",
     "output_type": "stream",
     "text": [
      "[1 2 3 4 5 6 7 8]\n",
      "value : [2 4 6]\n"
     ]
    }
   ],
   "source": [
    "arr=np.array([1,2,3,4,5,6,7,8])\n",
    "print(arr)\n",
    "print(\"value :\",arr[1:7:2])"
   ]
  },
  {
   "cell_type": "code",
   "execution_count": 177,
   "metadata": {},
   "outputs": [
    {
     "name": "stdout",
     "output_type": "stream",
     "text": [
      "value : [5 6 7]\n"
     ]
    }
   ],
   "source": [
    "arr1=np.array([[1,2,3,4],[5,6,7,8]])\n",
    "print(\"value :\",arr1[1,0:3])"
   ]
  },
  {
   "cell_type": "code",
   "execution_count": 198,
   "metadata": {},
   "outputs": [
    {
     "name": "stdout",
     "output_type": "stream",
     "text": [
      "(array([0, 3, 6, 7], dtype=int64),)\n",
      "(array([1, 3, 5, 7, 8], dtype=int64),)\n",
      "(array([3, 7], dtype=int64),)\n"
     ]
    }
   ],
   "source": [
    "arr=np.array([1,2,3,4,5,6,7,4,8,])\n",
    "x=(np.where(arr%3==1))\n",
    "z=(np.where(arr%2==0))\n",
    "print(x)\n",
    "print(z) # using this condition divisabel by which number divisabel by 2 give the those index number\n",
    "\n",
    "y=(np.where(arr==4))\n",
    "print(y)# using this condition give the repeated value of 4\n",
    "\n",
    "\n"
   ]
  },
  {
   "attachments": {},
   "cell_type": "markdown",
   "metadata": {},
   "source": [
    "Search sorted array"
   ]
  },
  {
   "cell_type": "code",
   "execution_count": 213,
   "metadata": {},
   "outputs": [
    {
     "name": "stdout",
     "output_type": "stream",
     "text": [
      "3\n",
      "6\n",
      "[0 6 3 0]\n"
     ]
    }
   ],
   "source": [
    "arr2=np.array([1,2,3,5,6,7])\n",
    "print(np.searchsorted(arr,4))\n",
    "\n",
    "print(np.searchsorted([1,2,3,5,6,7],8,side=\"right\"))\n",
    "\n",
    "print(np.searchsorted([1,2,3,5,6,7],[-2,10,5,-4]))\n"
   ]
  },
  {
   "cell_type": "code",
   "execution_count": 244,
   "metadata": {},
   "outputs": [
    {
     "name": "stdout",
     "output_type": "stream",
     "text": [
      "[[ 1  2  3]\n",
      " [ 5  4  6]\n",
      " [ 7  8  9]\n",
      " [10 11 12]]\n",
      "[1 2 3 4 5 6 7 8]\n"
     ]
    }
   ],
   "source": [
    "import numpy as np\n",
    "arr2=np.array([1,2,3,5,4,6,7,8,9,10,11,12])\n",
    "newarr=arr2.reshape(4,3)\n",
    "print(newarr)\n",
    "\n",
    "\n",
    "arr1=np.array([[1,2,3,4],[5,6,7,8]])\n",
    "x=arr1.reshape(-1)\n",
    "print(x)"
   ]
  }
 ],
 "metadata": {
  "kernelspec": {
   "display_name": "Python 3",
   "language": "python",
   "name": "python3"
  },
  "language_info": {
   "codemirror_mode": {
    "name": "ipython",
    "version": 3
   },
   "file_extension": ".py",
   "mimetype": "text/x-python",
   "name": "python",
   "nbconvert_exporter": "python",
   "pygments_lexer": "ipython3",
   "version": "3.11.3"
  },
  "orig_nbformat": 4
 },
 "nbformat": 4,
 "nbformat_minor": 2
}
