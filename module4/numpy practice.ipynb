{
 "cells": [
  {
   "attachments": {},
   "cell_type": "markdown",
   "metadata": {},
   "source": [
    "numpy practies"
   ]
  },
  {
   "attachments": {},
   "cell_type": "markdown",
   "metadata": {},
   "source": [
    " Checking the numpy version(np.__version__)"
   ]
  },
  {
   "cell_type": "code",
   "execution_count": 1,
   "metadata": {},
   "outputs": [
    {
     "name": "stdout",
     "output_type": "stream",
     "text": [
      "1.24.3\n"
     ]
    }
   ],
   "source": [
    "import numpy as np\n",
    "\n",
    "print(np.__version__)# Checking the numpy version"
   ]
  },
  {
   "attachments": {},
   "cell_type": "markdown",
   "metadata": {},
   "source": [
    "array in numpy all dimentions (np.array)"
   ]
  },
  {
   "cell_type": "code",
   "execution_count": 5,
   "metadata": {},
   "outputs": [
    {
     "name": "stdout",
     "output_type": "stream",
     "text": [
      "20\n",
      "[1 2]\n",
      "[[[1 2]\n",
      "  [3 4]]\n",
      "\n",
      " [[8 6]\n",
      "  [9 3]]]\n",
      "[[[ 1  2  3]\n",
      "  [ 4  5  6]]\n",
      "\n",
      " [[ 7  8  9]\n",
      "  [11 12 13]]]\n",
      "[[[[1 2 3]\n",
      "   [4 5 6]]]]\n",
      "[[[[[ 1  2  3]\n",
      "    [ 4  5  6]]\n",
      "\n",
      "   [[ 7  8  9]\n",
      "    [11 12 13]]]]]\n"
     ]
    }
   ],
   "source": [
    "import numpy as np\n",
    "\n",
    "print(np.array(20)) # 0 Dimentation array \n",
    "\n",
    "print(np.array([1,2])) # 1 Dimentation array\n",
    "\n",
    "print(np.array([[[1,2],[3,4]],[[8,6],[9,3]]])) # 2 Dimentation array\n",
    "\n",
    "print(np.array([[[1,2,3],[4,5,6]],[[7,8,9],[11,12,13]]])) # 3 Dimentation array\n",
    "\n",
    "print(np.array([[[1,2,3],[4,5,6]]],ndmin=4))  # 4 Dimentation array\n",
    "\n",
    "print(np.array([[[1,2,3],[4,5,6]],[[7,8,9],[11,12,13]]],ndmin=5))  # 5 Dimentation array ( creating more than 3D array)"
   ]
  },
  {
   "attachments": {},
   "cell_type": "markdown",
   "metadata": {},
   "source": [
    "check Dimensions (np.ndim),(np.array)"
   ]
  },
  {
   "cell_type": "code",
   "execution_count": 8,
   "metadata": {},
   "outputs": [
    {
     "name": "stdout",
     "output_type": "stream",
     "text": [
      "0\n",
      "2\n",
      "10\n"
     ]
    }
   ],
   "source": [
    "#Check the  Dimentation\n",
    "a=np.array(23)\n",
    "b=np.array([[1,2],[3,4]])\n",
    "d=np.array([[1,2],[3,4]],ndmin=10)\n",
    "print(np.ndim(a))\n",
    "print(np.ndim(b))\n",
    "print(np.ndim(d))"
   ]
  },
  {
   "attachments": {},
   "cell_type": "markdown",
   "metadata": {},
   "source": [
    "Checking Shape of the array"
   ]
  },
  {
   "cell_type": "code",
   "execution_count": 15,
   "metadata": {},
   "outputs": [
    {
     "name": "stdout",
     "output_type": "stream",
     "text": [
      "(1, 1, 1, 2)\n",
      "(2, 3)\n"
     ]
    }
   ],
   "source": [
    "import numpy as np\n",
    "arr1=np.array([[1,2,3],[2,3,4]])\n",
    "arr2=np.array([1,2],ndmin=4)\n",
    "print(arr2.shape)\n",
    "print(np.shape(arr1))\n"
   ]
  },
  {
   "attachments": {},
   "cell_type": "markdown",
   "metadata": {},
   "source": [
    "easily create an array filled with 0’s:"
   ]
  },
  {
   "cell_type": "code",
   "execution_count": 27,
   "metadata": {},
   "outputs": [
    {
     "name": "stdout",
     "output_type": "stream",
     "text": [
      "[0. 0. 0. 0. 0. 0. 0. 0. 0.]\n",
      "[1. 1. 1. 1.]\n",
      "[0 1 2 3 4 5]\n",
      "[1 3 5 7 9]\n"
     ]
    }
   ],
   "source": [
    "import numpy as np\n",
    "\n",
    "print(np.zeros(9)) # create  an array filled with 0's \n",
    "\n",
    "print(np.ones(4)) # create  an array filled with 1's \n",
    "\n",
    "print(np.arange(6)) # create an  array with a range of element\n",
    "\n",
    "print(np.arange(1,10,2)) # create an  array with a range of element"
   ]
  }
 ],
 "metadata": {
  "kernelspec": {
   "display_name": "Python 3",
   "language": "python",
   "name": "python3"
  },
  "language_info": {
   "codemirror_mode": {
    "name": "ipython",
    "version": 3
   },
   "file_extension": ".py",
   "mimetype": "text/x-python",
   "name": "python",
   "nbconvert_exporter": "python",
   "pygments_lexer": "ipython3",
   "version": "3.11.3"
  },
  "orig_nbformat": 4
 },
 "nbformat": 4,
 "nbformat_minor": 2
}
