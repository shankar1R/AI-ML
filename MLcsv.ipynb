{
 "cells": [
  {
   "attachments": {},
   "cell_type": "markdown",
   "metadata": {},
   "source": [
    "loading data from CSV file\n"
   ]
  },
  {
   "cell_type": "code",
   "execution_count": 20,
   "metadata": {},
   "outputs": [
    {
     "name": "stdout",
     "output_type": "stream",
     "text": [
      "   Roll No   Student Name parental level of education  math score   \n",
      "0        1     John Smith                 high school          67  \\\n",
      "1        2       Jane Doe            some high school          40   \n",
      "2        3      David Lee                some college          59   \n",
      "3        4  Sarah Johnson                 high school          77   \n",
      "4        5     Kim Nguyen          associate's degree          78   \n",
      "\n",
      "   Science score  Total score  \n",
      "0             67          134  \n",
      "1             59           99  \n",
      "2             60          119  \n",
      "3             78          155  \n",
      "4             73          151  \n"
     ]
    }
   ],
   "source": [
    "import pandas as pd\n",
    "\n",
    "df=pd.read_csv(\"C:/Users/User/Desktop/m4.csv/Student_details.csv\")  # read the CSV File\n",
    "print(df.head())\n",
    "\n"
   ]
  },
  {
   "cell_type": "code",
   "execution_count": 4,
   "metadata": {},
   "outputs": [
    {
     "name": "stdout",
     "output_type": "stream",
     "text": [
      "    Roll No   Student Name parental level of education  math score   \n",
      "95       96  Emily Johnson                 high school          58  \\\n",
      "96       97      David Lee          associate's degree          95   \n",
      "97       98    Sarah Brown                 high school          45   \n",
      "98       99   Michael Wong                some college          63   \n",
      "99      100           Ravi                 high school          97   \n",
      "\n",
      "    Science score  Total score  \n",
      "95             63          121  \n",
      "96            100          195  \n",
      "97             52           97  \n",
      "98             50          113  \n",
      "99             89          186  \n"
     ]
    }
   ],
   "source": [
    "print(df.tail())\n"
   ]
  },
  {
   "cell_type": "code",
   "execution_count": 16,
   "metadata": {},
   "outputs": [
    {
     "name": "stdout",
     "output_type": "stream",
     "text": [
      "Roll No                                      82\n",
      "Student Name                        Emma Watson\n",
      "parental level of education    some high school\n",
      "math score                                   31\n",
      "Science score                                38\n",
      "Total score                                  69\n",
      "Name: 81, dtype: object\n"
     ]
    }
   ],
   "source": [
    "print(df.loc[81]) # find the perticular student data using index\n"
   ]
  },
  {
   "cell_type": "code",
   "execution_count": 2,
   "metadata": {},
   "outputs": [
    {
     "name": "stdout",
     "output_type": "stream",
     "text": [
      "<bound method DataFrame.to_string of     Roll No   Student Name parental level of education  math score   \n",
      "0         1     John Smith                 high school          67  \\\n",
      "1         2       Jane Doe            some high school          40   \n",
      "2         3      David Lee                some college          59   \n",
      "3         4  Sarah Johnson                 high school          77   \n",
      "4         5     Kim Nguyen          associate's degree          78   \n",
      "..      ...            ...                         ...         ...   \n",
      "95       96  Emily Johnson                 high school          58   \n",
      "96       97      David Lee          associate's degree          95   \n",
      "97       98    Sarah Brown                 high school          45   \n",
      "98       99   Michael Wong                some college          63   \n",
      "99      100           Ravi                 high school          97   \n",
      "\n",
      "    Science score  Total score  \n",
      "0              67          134  \n",
      "1              59           99  \n",
      "2              60          119  \n",
      "3              78          155  \n",
      "4              73          151  \n",
      "..            ...          ...  \n",
      "95             63          121  \n",
      "96            100          195  \n",
      "97             52           97  \n",
      "98             50          113  \n",
      "99             89          186  \n",
      "\n",
      "[100 rows x 6 columns]>\n"
     ]
    }
   ],
   "source": [
    "print(df.to_string)"
   ]
  },
  {
   "cell_type": "code",
   "execution_count": 22,
   "metadata": {},
   "outputs": [
    {
     "name": "stdout",
     "output_type": "stream",
     "text": [
      "(100, 6)\n"
     ]
    }
   ],
   "source": [
    "print(df.shape) # print data shape"
   ]
  },
  {
   "cell_type": "code",
   "execution_count": 26,
   "metadata": {},
   "outputs": [
    {
     "name": "stdout",
     "output_type": "stream",
     "text": [
      "Index(['Roll No', 'Student Name', 'parental level of education', 'math score',\n",
      "       'Science score', 'Total score'],\n",
      "      dtype='object')\n",
      "math score\n"
     ]
    }
   ],
   "source": [
    "print(df.columns) # print the all columns names\n",
    "print(df.columns[3]) # print only selcting columns names\n"
   ]
  },
  {
   "cell_type": "code",
   "execution_count": 41,
   "metadata": {},
   "outputs": [
    {
     "name": "stdout",
     "output_type": "stream",
     "text": [
      "0       John Smith\n",
      "1         Jane Doe\n",
      "2        David Lee\n",
      "3    Sarah Johnson\n",
      "4       Kim Nguyen\n",
      "5    Michael Brown\n",
      "6      Emily Davis\n",
      "7     Lucas Santos\n",
      "8    Laura Janssen\n",
      "9     Mohammed Ali\n",
      "Name: Student Name, dtype: object\n"
     ]
    }
   ],
   "source": [
    "print(df['Student Name'].head(10))# print the First 10 student names"
   ]
  },
  {
   "cell_type": "code",
   "execution_count": 36,
   "metadata": {},
   "outputs": [
    {
     "name": "stdout",
     "output_type": "stream",
     "text": [
      "90      Liam Nguyen\n",
      "91     Giulia Rossi\n",
      "92     Putra Wijaya\n",
      "93       Kim Min-ji\n",
      "94       John Smith\n",
      "95    Emily Johnson\n",
      "96        David Lee\n",
      "97      Sarah Brown\n",
      "98     Michael Wong\n",
      "99             Ravi\n",
      "Name: Student Name, dtype: object\n"
     ]
    }
   ],
   "source": [
    "print(df['Student Name'].tail(10))# print the last 10 student names"
   ]
  },
  {
   "cell_type": "code",
   "execution_count": 43,
   "metadata": {},
   "outputs": [
    {
     "name": "stdout",
     "output_type": "stream",
     "text": [
      "    Roll No        Student Name parental level of education  math score   \n",
      "0         1          John Smith                 high school          67  \\\n",
      "3         4       Sarah Johnson                 high school          77   \n",
      "6         7         Emily Davis           bachelor's degree          62   \n",
      "9        10        Mohammed Ali                some college          47   \n",
      "12       13           Lily Wong          associate's degree          77   \n",
      "15       16     James MacKenzie          associate's degree          69   \n",
      "18       19    Olivia Rodriguez          associate's degree          23   \n",
      "21       22        James Wilson          associate's degree          58   \n",
      "24       25         Lily Nguyen            some high school          46   \n",
      "27       28         Alice Smith                 high school          71   \n",
      "30       31          Emma Davis                some college          87   \n",
      "33       34          Sophia Lee          associate's degree          65   \n",
      "36       37       William Davis                some college          57   \n",
      "39       40            Adam Lee          associate's degree          98   \n",
      "42       43         Maria Silva                 high school          87   \n",
      "45       46       Michael Davis           bachelor's degree          60   \n",
      "48       49  Laura van den Berg                 high school          68   \n",
      "\n",
      "    Science score  Total score  \n",
      "0              67          134  \n",
      "3              78          155  \n",
      "6              59          121  \n",
      "9              42           89  \n",
      "12             87          164  \n",
      "15             61          130  \n",
      "18             44           67  \n",
      "21             52          110  \n",
      "24             38           84  \n",
      "27             68          139  \n",
      "30             79          166  \n",
      "33             65          130  \n",
      "36             77          134  \n",
      "39             81          179  \n",
      "42             79          166  \n",
      "45             46          106  \n",
      "48             72          140  \n"
     ]
    }
   ],
   "source": [
    "print(df[0:50:3]) #  print the student  slic datan using index "
   ]
  }
 ],
 "metadata": {
  "kernelspec": {
   "display_name": "Python 3",
   "language": "python",
   "name": "python3"
  },
  "language_info": {
   "codemirror_mode": {
    "name": "ipython",
    "version": 3
   },
   "file_extension": ".py",
   "mimetype": "text/x-python",
   "name": "python",
   "nbconvert_exporter": "python",
   "pygments_lexer": "ipython3",
   "version": "3.11.3"
  },
  "orig_nbformat": 4
 },
 "nbformat": 4,
 "nbformat_minor": 2
}
