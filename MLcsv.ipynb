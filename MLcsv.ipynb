{
 "cells": [
  {
   "cell_type": "code",
   "execution_count": 1,
   "metadata": {},
   "outputs": [
    {
     "name": "stdout",
     "output_type": "stream",
     "text": [
      "   Roll No   Student Name parental level of education  math score   \n",
      "0        1     John Smith                 high school          67  \\\n",
      "1        2       Jane Doe            some high school          40   \n",
      "2        3      David Lee                some college          59   \n",
      "3        4  Sarah Johnson                 high school          77   \n",
      "4        5     Kim Nguyen          associate's degree          78   \n",
      "\n",
      "   Science score  Total score  \n",
      "0             67          134  \n",
      "1             59           99  \n",
      "2             60          119  \n",
      "3             78          155  \n",
      "4             73          151  \n"
     ]
    }
   ],
   "source": [
    "import pandas as pd\n",
    "\n",
    "df=pd.read_csv(\"C:/Users/User/Desktop/m4.csv/Student_details.csv\")  # read the CSV File\n",
    "print(df.head())"
   ]
  },
  {
   "cell_type": "code",
   "execution_count": 2,
   "metadata": {},
   "outputs": [
    {
     "name": "stdout",
     "output_type": "stream",
     "text": [
      "<bound method DataFrame.to_string of     Roll No   Student Name parental level of education  math score   \n",
      "0         1     John Smith                 high school          67  \\\n",
      "1         2       Jane Doe            some high school          40   \n",
      "2         3      David Lee                some college          59   \n",
      "3         4  Sarah Johnson                 high school          77   \n",
      "4         5     Kim Nguyen          associate's degree          78   \n",
      "..      ...            ...                         ...         ...   \n",
      "95       96  Emily Johnson                 high school          58   \n",
      "96       97      David Lee          associate's degree          95   \n",
      "97       98    Sarah Brown                 high school          45   \n",
      "98       99   Michael Wong                some college          63   \n",
      "99      100           Ravi                 high school          97   \n",
      "\n",
      "    Science score  Total score  \n",
      "0              67          134  \n",
      "1              59           99  \n",
      "2              60          119  \n",
      "3              78          155  \n",
      "4              73          151  \n",
      "..            ...          ...  \n",
      "95             63          121  \n",
      "96            100          195  \n",
      "97             52           97  \n",
      "98             50          113  \n",
      "99             89          186  \n",
      "\n",
      "[100 rows x 6 columns]>\n"
     ]
    }
   ],
   "source": [
    "print(df.to_string)"
   ]
  }
 ],
 "metadata": {
  "kernelspec": {
   "display_name": "Python 3",
   "language": "python",
   "name": "python3"
  },
  "language_info": {
   "codemirror_mode": {
    "name": "ipython",
    "version": 3
   },
   "file_extension": ".py",
   "mimetype": "text/x-python",
   "name": "python",
   "nbconvert_exporter": "python",
   "pygments_lexer": "ipython3",
   "version": "3.11.3"
  },
  "orig_nbformat": 4
 },
 "nbformat": 4,
 "nbformat_minor": 2
}
