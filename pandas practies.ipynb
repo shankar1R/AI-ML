{
 "cells": [
  {
   "attachments": {},
   "cell_type": "markdown",
   "metadata": {},
   "source": [
    "Creating series"
   ]
  },
  {
   "cell_type": "code",
   "execution_count": 5,
   "metadata": {},
   "outputs": [
    {
     "name": "stdout",
     "output_type": "stream",
     "text": [
      "0     shankar\n",
      "1      gourav\n",
      "2        Ravi\n",
      "dtype: object\n",
      "0    110\n",
      "1     20\n",
      "2     30\n",
      "3     40\n",
      "4     50\n",
      "dtype: int64\n"
     ]
    }
   ],
   "source": [
    "import pandas as pd \n",
    "import numpy as np\n",
    "\n",
    "a=np.array([\" shankar\",\"gourav\",\"Ravi\"])\n",
    "S=pd.Series(a) # print data in series\n",
    "print(S)\n",
    "\n",
    "S=pd.Series((110,20,30,40,50))\n",
    "print(S)"
   ]
  },
  {
   "cell_type": "code",
   "execution_count": 6,
   "metadata": {},
   "outputs": [
    {
     "name": "stdout",
     "output_type": "stream",
     "text": [
      "a     10\n",
      "b     20\n",
      "c     30\n",
      "d     40\n",
      "e     50\n",
      "f     60\n",
      "g     70\n",
      "h     80\n",
      "i     90\n",
      "j    100\n",
      "dtype: int32\n"
     ]
    }
   ],
   "source": [
    "import numpy as np\n",
    "a=np.array([10,20,30,40,50,60,70,80,90,100])\n",
    "S=pd.Series(data=a , index=[\"a\",\"b\",\"c\",\"d\",\"e\",\"f\",\"g\",\"h\",\"i\",\"j\"])\n",
    "print(S) # print the data with index number"
   ]
  },
  {
   "cell_type": "code",
   "execution_count": 7,
   "metadata": {},
   "outputs": [
    {
     "name": "stdout",
     "output_type": "stream",
     "text": [
      "40\n"
     ]
    }
   ],
   "source": [
    "a=np.array([10,20,30,40,50,60,70,80,90,100])\n",
    "S=pd.Series(data=a , index=[\"a\",\"b\",\"c\",\"d\",\"e\",\"f\",\"g\",\"h\",\"i\",\"j\"])\n",
    "print(S[\"d\"]) # Data find "
   ]
  },
  {
   "attachments": {},
   "cell_type": "markdown",
   "metadata": {},
   "source": [
    "Creating series using lists"
   ]
  },
  {
   "cell_type": "code",
   "execution_count": 8,
   "metadata": {},
   "outputs": [
    {
     "data": {
      "text/plain": [
       "0    10\n",
       "1    20\n",
       "2    30\n",
       "3    40\n",
       "4    50\n",
       "dtype: int64"
      ]
     },
     "execution_count": 8,
     "metadata": {},
     "output_type": "execute_result"
    }
   ],
   "source": [
    "l=[10,20,30,40,50]\n",
    "pd.Series(l) # create series usiong list method"
   ]
  },
  {
   "attachments": {},
   "cell_type": "markdown",
   "metadata": {},
   "source": [
    "Series using Dictionary"
   ]
  },
  {
   "cell_type": "code",
   "execution_count": 9,
   "metadata": {},
   "outputs": [
    {
     "data": {
      "text/plain": [
       "A    100\n",
       "B    200\n",
       "C    300\n",
       "D    400\n",
       "E    500\n",
       "dtype: int64"
      ]
     },
     "execution_count": 9,
     "metadata": {},
     "output_type": "execute_result"
    }
   ],
   "source": [
    "D={\"A\":100,\"B\":200,\"C\":300,\"D\":400,\"E\":500}\n",
    "pd.Series(D)"
   ]
  },
  {
   "attachments": {},
   "cell_type": "markdown",
   "metadata": {},
   "source": [
    "Crating data frames"
   ]
  },
  {
   "cell_type": "code",
   "execution_count": 10,
   "metadata": {},
   "outputs": [
    {
     "name": "stdout",
     "output_type": "stream",
     "text": [
      "     Name catagory\n",
      "0    Ravi       2A\n",
      "1  Ramesh       3B\n",
      "2  Ganesh       SC\n",
      "3    Ragu       ST\n",
      "4    Ramu      OBC\n",
      "---------------------\n"
     ]
    },
    {
     "data": {
      "text/plain": [
       "Name        Ramu\n",
       "catagory     OBC\n",
       "Name: 4, dtype: object"
      ]
     },
     "execution_count": 10,
     "metadata": {},
     "output_type": "execute_result"
    }
   ],
   "source": [
    "import pandas as pd\n",
    "\n",
    "df={ \"Name\" :[\"Ravi\",\"Ramesh\",\"Ganesh\",\"Ragu\",\"Ramu\"],\n",
    "    \"catagory\":[\"2A\",\"3B\",\"SC\",\"ST\",\"OBC\"]}\n",
    "myvar=(pd.DataFrame(df)) # creating the data frame\n",
    "print(myvar)\n",
    "print(\"---------------------\")\n",
    "\n",
    "myvar.loc[4]\n"
   ]
  },
  {
   "cell_type": "markdown",
   "metadata": {},
   "source": [
    "#  In data analysis pandas role  varies step"
   ]
  },
  {
   "cell_type": "markdown",
   "metadata": {},
   "source": [
    "# Data importing  Step "
   ]
  },
  {
   "cell_type": "code",
   "execution_count": 11,
   "metadata": {},
   "outputs": [
    {
     "name": "stdout",
     "output_type": "stream",
     "text": [
      "          Age  Performance  License_Status\n",
      "0        20.0         50.0  License_Status\n",
      "1        23.0         80.0  License_Status\n",
      "2        24.0         85.0  License_Status\n",
      "3        16.0         45.0  License_Status\n",
      "4        26.0         81.0  License_Status\n",
      "...       ...          ...             ...\n",
      "1048570   NaN          NaN  License_Status\n",
      "1048571   NaN          NaN  License_Status\n",
      "1048572   NaN          NaN  License_Status\n",
      "1048573   NaN          NaN  License_Status\n",
      "1048574   NaN          NaN  License_Status\n",
      "\n",
      "[1048575 rows x 3 columns]\n"
     ]
    }
   ],
   "source": [
    "\n",
    "import pandas as pd\n",
    "\n",
    "# Import the data using (pd.read_csv)\n",
    "print(pd.read_csv(\"E:\\AI&ML\\Exel sheets\\Licence_data.csv\"))\n",
    " \n"
   ]
  },
  {
   "cell_type": "code",
   "execution_count": 16,
   "metadata": {},
   "outputs": [
    {
     "name": "stdout",
     "output_type": "stream",
     "text": [
      "        Age,Performance,License_Status\n",
      "0                 20,50,License_Status\n",
      "1                 23,80,License_Status\n",
      "2                 24,85,License_Status\n",
      "3                 16,45,License_Status\n",
      "4                 26,81,License_Status\n",
      "...                                ...\n",
      "1048570               ,,License_Status\n",
      "1048571               ,,License_Status\n",
      "1048572               ,,License_Status\n",
      "1048573               ,,License_Status\n",
      "1048574               ,,License_Status\n",
      "\n",
      "[1048575 rows x 1 columns]\n",
      "Empty DataFrame\n",
      "Columns: [welcome to world]\n",
      "Index: []\n"
     ]
    }
   ],
   "source": [
    "# Import the data using (pd.read_tabel)\n",
    "print(pd.read_table(\"E:\\AI&ML\\Exel sheets\\Licence_data.csv\"))# import the csv data File\n",
    "\n",
    "data = pd.read_table('data.txt')\n",
    "print(data) # import the data of text file"
   ]
  },
  {
   "cell_type": "markdown",
   "metadata": {},
   "source": [
    "# another method of i,port data methods\n",
    "# pd.read_excel()\n",
    "# pd.read_csv()\n",
    "# pd.read_sql()\n",
    "# pd.read_json()\n",
    "# pd.read_html()\n",
    "# pd.DataFrame()\n",
    "# pd.concat()\n",
    "# pd.Series()\n",
    "# pd.date_range()"
   ]
  },
  {
   "cell_type": "markdown",
   "metadata": {},
   "source": [
    "# Data cleaning methods of pandas"
   ]
  },
  {
   "cell_type": "code",
   "execution_count": 15,
   "metadata": {},
   "outputs": [
    {
     "name": "stdout",
     "output_type": "stream",
     "text": [
      "     A    B   C\n",
      "0  1.0  5.0   9\n",
      "1  2.0  0.0  10\n",
      "2  0.0  7.0  11\n",
      "3  4.0  8.0  12\n",
      "------------------------------------------\n",
      "     A    B   C\n",
      "0  1.0  5.0   9\n",
      "3  4.0  8.0  12\n"
     ]
    }
   ],
   "source": [
    "import pandas as pd\n",
    "\n",
    "data=pd.DataFrame({\n",
    "    \"A\": [1,2,None,4],\n",
    "    \"B\":[5 ,None,7,8],\n",
    "    \"C\":[9,10,11,12]\n",
    "})\n",
    "print(data.fillna(0))# fill the data to the empty cell\n",
    "print(\"------------------------------------------\")\n",
    "print(data.dropna()) # delet the Which row will empty the hole row delet the data\n"
   ]
  },
  {
   "cell_type": "code",
   "execution_count": 26,
   "metadata": {},
   "outputs": [
    {
     "name": "stdout",
     "output_type": "stream",
     "text": [
      "     A    B   C\n",
      "3  1.0  8.0  12\n",
      "1  2.0  NaN  10\n",
      "0  3.0  9.0   5\n",
      "2  NaN  7.0  11\n"
     ]
    }
   ],
   "source": [
    "\n",
    "data=pd.DataFrame({\n",
    "    \"A\": [3,2,None,1],\n",
    "    \"B\":[9 ,None,7,8],\n",
    "    \"C\":[5,10,11,12]\n",
    "})\n",
    "data.sort_values(by=\"A\",inplace=True)\n",
    "print(data) # sorting the concider the Data"
   ]
  },
  {
   "cell_type": "code",
   "execution_count": 32,
   "metadata": {},
   "outputs": [
    {
     "name": "stdout",
     "output_type": "stream",
     "text": [
      "Original DataFrame:\n",
      "     A    B   C\n",
      "0  3.0  5.0   9\n",
      "1  2.0  NaN  10\n",
      "2  NaN  7.0  11\n",
      "3  1.0  8.0  12\n",
      "Result after applying the custom function:\n",
      "     A     B   C\n",
      "0  6.0   8.0  12\n",
      "1  5.0   NaN  13\n",
      "2  NaN  10.0  14\n",
      "3  4.0  11.0  15\n"
     ]
    }
   ],
   "source": [
    "import pandas as pd\n",
    "\n",
    "data = pd.DataFrame({\n",
    "    \"A\": [3, 2, None, 1],\n",
    "    \"B\": [5, None, 7, 8],\n",
    "    \"C\": [9, 10, 11, 12]\n",
    "})\n",
    "\n",
    "# Define a custom function to double the values\n",
    "def adding_the_value(x):\n",
    "    return x+3\n",
    "\n",
    "\n",
    "\n",
    "# Apply the custom function to each element of the DataFrame\n",
    "result = data.apply(adding_the_value)\n",
    "\n",
    "print(\"Original DataFrame:\")\n",
    "print(data)\n",
    "\n",
    "print(\"Result after applying the custom function:\")\n",
    "print(result)\n"
   ]
  },
  {
   "cell_type": "code",
   "execution_count": 38,
   "metadata": {},
   "outputs": [
    {
     "name": "stdout",
     "output_type": "stream",
     "text": [
      "       Value   Age\n",
      "Group             \n",
      "A       20.0  34.0\n",
      "B       25.0  45.0\n"
     ]
    }
   ],
   "source": [
    "import pandas as pd\n",
    "\n",
    "# Create a DataFrame with sample data\n",
    "data = pd.DataFrame({\n",
    "    \"Group\": [\"A\", \"B\", \"A\", \"B\", \"A\", \"B\"],\n",
    "    \"Value\": [10, 15, 20, 25, 30, 35],\n",
    "    \"Age\"  : [12 ,23 , 34, 45, 56,67]\n",
    "})\n",
    "\n",
    "# Group the data by the \"Group\" column and calculate the mean of each group\n",
    "grouped_data = data.groupby(by=\"Group\").mean()\n",
    "\n",
    "# Display the grouped and aggregated data\n",
    "print(grouped_data)\n"
   ]
  },
  {
   "cell_type": "code",
   "execution_count": 44,
   "metadata": {},
   "outputs": [
    {
     "name": "stdout",
     "output_type": "stream",
     "text": [
      "   A   B     C\n",
      "0  3   5   9.0\n",
      "1  2   6  10.0\n",
      "2  7   7  11.0\n",
      "3  1   8  12.0\n",
      "0  7  10   NaN\n",
      "1  8  11   NaN\n",
      "2  9  12   NaN\n",
      "----------------------------\n",
      "   A   B     C\n",
      "0  3   5   9.0\n",
      "1  2   6  10.0\n",
      "2  7   7  11.0\n",
      "3  1   8  12.0\n",
      "0  7  10   0.0\n",
      "1  8  11   0.0\n",
      "2  9  12   0.0\n"
     ]
    }
   ],
   "source": [
    "data1 = pd.DataFrame({\n",
    "    \"A\": [3, 2, 7, 1],\n",
    "    \"B\": [5, 6, 7, 8],\n",
    "    \"C\": [9, 10, 11, 12]\n",
    "})\n",
    "\n",
    "data2 = pd.DataFrame({\n",
    "    \"A\": [7, 8, 9],\n",
    "    \"B\": [10, 11, 12]\n",
    "})\n",
    "\n",
    "# combined_data = data1.append(data2)\n",
    "\n",
    "combined_data = pd.concat([data1, data2])\n",
    "print(combined_data)\n",
    "print(\"----------------------------\")\n",
    "print(combined_data.fillna(0))"
   ]
  },
  {
   "cell_type": "code",
   "execution_count": null,
   "metadata": {},
   "outputs": [],
   "source": []
  }
 ],
 "metadata": {
  "kernelspec": {
   "display_name": "Python 3",
   "language": "python",
   "name": "python3"
  },
  "language_info": {
   "codemirror_mode": {
    "name": "ipython",
    "version": 3
   },
   "file_extension": ".py",
   "mimetype": "text/x-python",
   "name": "python",
   "nbconvert_exporter": "python",
   "pygments_lexer": "ipython3",
   "version": "3.11.4"
  },
  "orig_nbformat": 4
 },
 "nbformat": 4,
 "nbformat_minor": 2
}
