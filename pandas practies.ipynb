{
 "cells": [
  {
   "attachments": {},
   "cell_type": "markdown",
   "metadata": {},
   "source": [
    "Creating series"
   ]
  },
  {
   "cell_type": "code",
   "execution_count": 18,
   "metadata": {},
   "outputs": [
    {
     "name": "stdout",
     "output_type": "stream",
     "text": [
      "0     shankar\n",
      "1      gourav\n",
      "2        Ravi\n",
      "dtype: object\n",
      "0    110\n",
      "1     20\n",
      "2     30\n",
      "3     40\n",
      "4     50\n",
      "dtype: int64\n"
     ]
    }
   ],
   "source": [
    "import pandas as pd \n",
    "import numpy as np\n",
    "\n",
    "a=np.array([\" shankar\",\"gourav\",\"Ravi\"])\n",
    "S=pd.Series(a) # print data in series\n",
    "print(S)\n",
    "\n",
    "S=pd.Series((110,20,30,40,50))\n",
    "print(S)"
   ]
  },
  {
   "cell_type": "code",
   "execution_count": 31,
   "metadata": {},
   "outputs": [
    {
     "name": "stdout",
     "output_type": "stream",
     "text": [
      "a     10\n",
      "b     20\n",
      "c     30\n",
      "d     40\n",
      "e     50\n",
      "f     60\n",
      "g     70\n",
      "h     80\n",
      "i     90\n",
      "j    100\n",
      "dtype: int32\n"
     ]
    }
   ],
   "source": [
    "import numpy as np\n",
    "a=np.array([10,20,30,40,50,60,70,80,90,100])\n",
    "S=pd.Series(data=a , index=[\"a\",\"b\",\"c\",\"d\",\"e\",\"f\",\"g\",\"h\",\"i\",\"j\"])\n",
    "print(S) # print the data with index number"
   ]
  },
  {
   "cell_type": "code",
   "execution_count": 32,
   "metadata": {},
   "outputs": [
    {
     "name": "stdout",
     "output_type": "stream",
     "text": [
      "40\n"
     ]
    }
   ],
   "source": [
    "a=np.array([10,20,30,40,50,60,70,80,90,100])\n",
    "S=pd.Series(data=a , index=[\"a\",\"b\",\"c\",\"d\",\"e\",\"f\",\"g\",\"h\",\"i\",\"j\"])\n",
    "print(S[\"d\"]) # Data find "
   ]
  },
  {
   "attachments": {},
   "cell_type": "markdown",
   "metadata": {},
   "source": [
    "Creating series using lists"
   ]
  },
  {
   "cell_type": "code",
   "execution_count": 43,
   "metadata": {},
   "outputs": [
    {
     "data": {
      "text/plain": [
       "0    10\n",
       "1    20\n",
       "2    30\n",
       "3    40\n",
       "4    50\n",
       "dtype: int64"
      ]
     },
     "execution_count": 43,
     "metadata": {},
     "output_type": "execute_result"
    }
   ],
   "source": [
    "l=[10,20,30,40,50]\n",
    "pd.Series(l) # create series usiong list method"
   ]
  },
  {
   "attachments": {},
   "cell_type": "markdown",
   "metadata": {},
   "source": [
    "Series using Dictionary"
   ]
  },
  {
   "cell_type": "code",
   "execution_count": 45,
   "metadata": {},
   "outputs": [
    {
     "data": {
      "text/plain": [
       "A    100\n",
       "B    200\n",
       "C    300\n",
       "D    400\n",
       "E    500\n",
       "dtype: int64"
      ]
     },
     "execution_count": 45,
     "metadata": {},
     "output_type": "execute_result"
    }
   ],
   "source": [
    "D={\"A\":100,\"B\":200,\"C\":300,\"D\":400,\"E\":500}\n",
    "pd.Series(D)"
   ]
  },
  {
   "attachments": {},
   "cell_type": "markdown",
   "metadata": {},
   "source": [
    "Crating data frames"
   ]
  },
  {
   "cell_type": "code",
   "execution_count": 59,
   "metadata": {},
   "outputs": [
    {
     "name": "stdout",
     "output_type": "stream",
     "text": [
      "     Name catagory\n",
      "0    Ravi       2A\n",
      "1  Ramesh       3B\n",
      "2  Ganesh       SC\n",
      "3    Ragu       ST\n",
      "4    Ramu      OBC\n",
      "---------------------\n"
     ]
    },
    {
     "data": {
      "text/plain": [
       "Name        Ramu\n",
       "catagory     OBC\n",
       "Name: 4, dtype: object"
      ]
     },
     "execution_count": 59,
     "metadata": {},
     "output_type": "execute_result"
    }
   ],
   "source": [
    "import pandas as pd\n",
    "\n",
    "df={ \"Name\" :[\"Ravi\",\"Ramesh\",\"Ganesh\",\"Ragu\",\"Ramu\"],\n",
    "    \"catagory\":[\"2A\",\"3B\",\"SC\",\"ST\",\"OBC\"]}\n",
    "myvar=(pd.DataFrame(df)) # creating the data frame\n",
    "print(myvar)\n",
    "print(\"---------------------\")\n",
    "\n",
    "myvar.loc[4]\n"
   ]
  },
  {
   "cell_type": "code",
   "execution_count": null,
   "metadata": {},
   "outputs": [],
   "source": [
    "# accessing rows by using loc keyword\n",
    "\n"
   ]
  },
  {
   "attachments": {},
   "cell_type": "markdown",
   "metadata": {},
   "source": [
    "Loading Files Into a DataFrame"
   ]
  },
  {
   "cell_type": "code",
   "execution_count": 39,
   "metadata": {},
   "outputs": [
    {
     "data": {
      "text/html": [
       "<div>\n",
       "<style scoped>\n",
       "    .dataframe tbody tr th:only-of-type {\n",
       "        vertical-align: middle;\n",
       "    }\n",
       "\n",
       "    .dataframe tbody tr th {\n",
       "        vertical-align: top;\n",
       "    }\n",
       "\n",
       "    .dataframe thead th {\n",
       "        text-align: right;\n",
       "    }\n",
       "</style>\n",
       "<table border=\"1\" class=\"dataframe\">\n",
       "  <thead>\n",
       "    <tr style=\"text-align: right;\">\n",
       "      <th></th>\n",
       "      <th>Roll No</th>\n",
       "      <th>Student Name</th>\n",
       "      <th>parental level of education</th>\n",
       "      <th>math score</th>\n",
       "      <th>Science score</th>\n",
       "      <th>Total score</th>\n",
       "    </tr>\n",
       "  </thead>\n",
       "  <tbody>\n",
       "    <tr>\n",
       "      <th>0</th>\n",
       "      <td>1</td>\n",
       "      <td>John Smith</td>\n",
       "      <td>high school</td>\n",
       "      <td>67</td>\n",
       "      <td>67</td>\n",
       "      <td>134</td>\n",
       "    </tr>\n",
       "    <tr>\n",
       "      <th>1</th>\n",
       "      <td>2</td>\n",
       "      <td>Jane Doe</td>\n",
       "      <td>some high school</td>\n",
       "      <td>40</td>\n",
       "      <td>59</td>\n",
       "      <td>99</td>\n",
       "    </tr>\n",
       "    <tr>\n",
       "      <th>2</th>\n",
       "      <td>3</td>\n",
       "      <td>David Lee</td>\n",
       "      <td>some college</td>\n",
       "      <td>59</td>\n",
       "      <td>60</td>\n",
       "      <td>119</td>\n",
       "    </tr>\n",
       "    <tr>\n",
       "      <th>3</th>\n",
       "      <td>4</td>\n",
       "      <td>Sarah Johnson</td>\n",
       "      <td>high school</td>\n",
       "      <td>77</td>\n",
       "      <td>78</td>\n",
       "      <td>155</td>\n",
       "    </tr>\n",
       "    <tr>\n",
       "      <th>4</th>\n",
       "      <td>5</td>\n",
       "      <td>Kim Nguyen</td>\n",
       "      <td>associate's degree</td>\n",
       "      <td>78</td>\n",
       "      <td>73</td>\n",
       "      <td>151</td>\n",
       "    </tr>\n",
       "    <tr>\n",
       "      <th>...</th>\n",
       "      <td>...</td>\n",
       "      <td>...</td>\n",
       "      <td>...</td>\n",
       "      <td>...</td>\n",
       "      <td>...</td>\n",
       "      <td>...</td>\n",
       "    </tr>\n",
       "    <tr>\n",
       "      <th>95</th>\n",
       "      <td>96</td>\n",
       "      <td>Emily Johnson</td>\n",
       "      <td>high school</td>\n",
       "      <td>58</td>\n",
       "      <td>63</td>\n",
       "      <td>121</td>\n",
       "    </tr>\n",
       "    <tr>\n",
       "      <th>96</th>\n",
       "      <td>97</td>\n",
       "      <td>David Lee</td>\n",
       "      <td>associate's degree</td>\n",
       "      <td>95</td>\n",
       "      <td>100</td>\n",
       "      <td>195</td>\n",
       "    </tr>\n",
       "    <tr>\n",
       "      <th>97</th>\n",
       "      <td>98</td>\n",
       "      <td>Sarah Brown</td>\n",
       "      <td>high school</td>\n",
       "      <td>45</td>\n",
       "      <td>52</td>\n",
       "      <td>97</td>\n",
       "    </tr>\n",
       "    <tr>\n",
       "      <th>98</th>\n",
       "      <td>99</td>\n",
       "      <td>Michael Wong</td>\n",
       "      <td>some college</td>\n",
       "      <td>63</td>\n",
       "      <td>50</td>\n",
       "      <td>113</td>\n",
       "    </tr>\n",
       "    <tr>\n",
       "      <th>99</th>\n",
       "      <td>100</td>\n",
       "      <td>Ravi</td>\n",
       "      <td>high school</td>\n",
       "      <td>97</td>\n",
       "      <td>89</td>\n",
       "      <td>186</td>\n",
       "    </tr>\n",
       "  </tbody>\n",
       "</table>\n",
       "<p>100 rows × 6 columns</p>\n",
       "</div>"
      ],
      "text/plain": [
       "    Roll No   Student Name parental level of education  math score   \n",
       "0         1     John Smith                 high school          67  \\\n",
       "1         2       Jane Doe            some high school          40   \n",
       "2         3      David Lee                some college          59   \n",
       "3         4  Sarah Johnson                 high school          77   \n",
       "4         5     Kim Nguyen          associate's degree          78   \n",
       "..      ...            ...                         ...         ...   \n",
       "95       96  Emily Johnson                 high school          58   \n",
       "96       97      David Lee          associate's degree          95   \n",
       "97       98    Sarah Brown                 high school          45   \n",
       "98       99   Michael Wong                some college          63   \n",
       "99      100           Ravi                 high school          97   \n",
       "\n",
       "    Science score  Total score  \n",
       "0              67          134  \n",
       "1              59           99  \n",
       "2              60          119  \n",
       "3              78          155  \n",
       "4              73          151  \n",
       "..            ...          ...  \n",
       "95             63          121  \n",
       "96            100          195  \n",
       "97             52           97  \n",
       "98             50          113  \n",
       "99             89          186  \n",
       "\n",
       "[100 rows x 6 columns]"
      ]
     },
     "execution_count": 39,
     "metadata": {},
     "output_type": "execute_result"
    }
   ],
   "source": [
    "import pandas as pd\n",
    "\n",
    "df=pd.read_csv(\"C:/Users/User/Desktop/m4.csv/Student_details.csv\")  # read the CSV File\n",
    "df\n",
    "\n"
   ]
  },
  {
   "cell_type": "code",
   "execution_count": 38,
   "metadata": {},
   "outputs": [
    {
     "name": "stdout",
     "output_type": "stream",
     "text": [
      "<bound method DataFrame.to_string of     Roll No   Student Name parental level of education  math score   \n",
      "0         1     John Smith                 high school          67  \\\n",
      "1         2       Jane Doe            some high school          40   \n",
      "2         3      David Lee                some college          59   \n",
      "3         4  Sarah Johnson                 high school          77   \n",
      "4         5     Kim Nguyen          associate's degree          78   \n",
      "..      ...            ...                         ...         ...   \n",
      "95       96  Emily Johnson                 high school          58   \n",
      "96       97      David Lee          associate's degree          95   \n",
      "97       98    Sarah Brown                 high school          45   \n",
      "98       99   Michael Wong                some college          63   \n",
      "99      100           Ravi                 high school          97   \n",
      "\n",
      "    Science score  Total score  \n",
      "0              67          134  \n",
      "1              59           99  \n",
      "2              60          119  \n",
      "3              78          155  \n",
      "4              73          151  \n",
      "..            ...          ...  \n",
      "95             63          121  \n",
      "96            100          195  \n",
      "97             52           97  \n",
      "98             50          113  \n",
      "99             89          186  \n",
      "\n",
      "[100 rows x 6 columns]>\n"
     ]
    }
   ],
   "source": [
    "print(df.to_string)"
   ]
  },
  {
   "attachments": {},
   "cell_type": "markdown",
   "metadata": {},
   "source": [
    "java script operate nottion (json)"
   ]
  },
  {
   "cell_type": "code",
   "execution_count": null,
   "metadata": {},
   "outputs": [],
   "source": []
  }
 ],
 "metadata": {
  "kernelspec": {
   "display_name": "Python 3",
   "language": "python",
   "name": "python3"
  },
  "language_info": {
   "codemirror_mode": {
    "name": "ipython",
    "version": 3
   },
   "file_extension": ".py",
   "mimetype": "text/x-python",
   "name": "python",
   "nbconvert_exporter": "python",
   "pygments_lexer": "ipython3",
   "version": "3.11.3"
  },
  "orig_nbformat": 4
 },
 "nbformat": 4,
 "nbformat_minor": 2
}
