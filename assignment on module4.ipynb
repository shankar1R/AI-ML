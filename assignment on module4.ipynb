{
 "cells": [
  {
   "cell_type": "code",
   "execution_count": 16,
   "metadata": {},
   "outputs": [
    {
     "name": "stdout",
     "output_type": "stream",
     "text": [
      "Student infor matio : Student_rool_no       5\n",
      "Student_Name       Ramu\n",
      "Maths               100\n",
      "Science              59\n",
      "Total               159\n",
      "Name: 4, dtype: object\n",
      "Student infor matio : Student_rool_no         1\n",
      "Student_Name       Ramesh\n",
      "Maths                  66\n",
      "Science                68\n",
      "Total                 134\n",
      "Name: 0, dtype: object\n"
     ]
    }
   ],
   "source": [
    "import pandas as pd\n",
    "Student_data={\"Student_rool_no\" : [1,2,3,4,5],\n",
    "              \"Student_Name\"    :[\"Ramesh\",\"Ragav\",\"Ravi\",\"Ganesh\",\"Ramu\"],\n",
    "              \"Maths\"           :[66,75,65,91,100],\n",
    "              \"Science\"         :[68,95,54,74,59],\n",
    "              \"Total\"           :[134,170,119,165,159]}\n",
    "\n",
    "myvar1=pd.DataFrame(Student_data)\n",
    "myvar1\n",
    "\n",
    "\n",
    "print(\"Student infor matio :\",myvar1.loc[4])\n",
    "\n",
    "\n",
    "print(\"Student infor matio :\",myvar1.loc[0])\n",
    "\n",
    "\n",
    " \n",
    "\n",
    "\n"
   ]
  },
  {
   "cell_type": "code",
   "execution_count": 18,
   "metadata": {},
   "outputs": [
    {
     "name": "stdout",
     "output_type": "stream",
     "text": [
      "Student infor matio : Student_rool_no       5\n",
      "Student_Name       Ramu\n",
      "Maths               100\n",
      "Science              59\n",
      "Total               159\n",
      "Name: 4, dtype: object\n",
      "_________________________\n",
      "Student infor matio : Student_rool_no         1\n",
      "Student_Name       Ramesh\n",
      "Maths                  66\n",
      "Science                68\n",
      "Total                 134\n",
      "Name: 0, dtype: object\n"
     ]
    }
   ],
   "source": [
    "\n",
    "print(\"Student infor matio :\",myvar1.loc[4])\n",
    "print(\"_________________________\")\n",
    "\n",
    "print(\"Student infor matio :\",myvar1.loc[0])"
   ]
  }
 ],
 "metadata": {
  "kernelspec": {
   "display_name": "Python 3",
   "language": "python",
   "name": "python3"
  },
  "language_info": {
   "codemirror_mode": {
    "name": "ipython",
    "version": 3
   },
   "file_extension": ".py",
   "mimetype": "text/x-python",
   "name": "python",
   "nbconvert_exporter": "python",
   "pygments_lexer": "ipython3",
   "version": "3.11.3"
  },
  "orig_nbformat": 4
 },
 "nbformat": 4,
 "nbformat_minor": 2
}
