{
 "cells": [
  {
   "cell_type": "code",
   "execution_count": 16,
   "metadata": {},
   "outputs": [
    {
     "name": "stdout",
     "output_type": "stream",
     "text": [
      "Student infor matio : Student_rool_no       5\n",
      "Student_Name       Ramu\n",
      "Maths               100\n",
      "Science              59\n",
      "Total               159\n",
      "Name: 4, dtype: object\n",
      "Student infor matio : Student_rool_no         1\n",
      "Student_Name       Ramesh\n",
      "Maths                  66\n",
      "Science                68\n",
      "Total                 134\n",
      "Name: 0, dtype: object\n"
     ]
    }
   ],
   "source": [
    "import pandas as pd\n",
    "Student_data={\"Student_rool_no\" : [1,2,3,4,5],\n",
    "              \"Student_Name\"    :[\"Ramesh\",\"Ragav\",\"Ravi\",\"Ganesh\",\"Ramu\"],\n",
    "              \"Maths\"           :[66,75,65,91,100],\n",
    "              \"Science\"         :[68,95,54,74,59],\n",
    "              \"Total\"           :[134,170,119,165,159]}\n",
    "\n",
    "myvar1=pd.DataFrame(Student_data)\n",
    "myvar1\n",
    "\n",
    "\n",
    "print(\"Student infor matio :\",myvar1.loc[4])\n",
    "\n",
    "\n",
    "print(\"Student infor matio :\",myvar1.loc[0])\n",
    "\n",
    "\n",
    " \n",
    "\n",
    "\n"
   ]
  },
  {
   "cell_type": "code",
   "execution_count": 18,
   "metadata": {},
   "outputs": [
    {
     "name": "stdout",
     "output_type": "stream",
     "text": [
      "Student infor matio : Student_rool_no       5\n",
      "Student_Name       Ramu\n",
      "Maths               100\n",
      "Science              59\n",
      "Total               159\n",
      "Name: 4, dtype: object\n",
      "_________________________\n",
      "Student infor matio : Student_rool_no         1\n",
      "Student_Name       Ramesh\n",
      "Maths                  66\n",
      "Science                68\n",
      "Total                 134\n",
      "Name: 0, dtype: object\n"
     ]
    }
   ],
   "source": [
    "\n",
    "print(\"Student infor matio :\",myvar1.loc[4])\n",
    "print(\"_________________________\")\n",
    "\n",
    "print(\"Student infor matio :\",myvar1.loc[0])"
   ]
  },
  {
   "cell_type": "code",
   "execution_count": 20,
   "metadata": {},
   "outputs": [
    {
     "ename": "NameError",
     "evalue": "name 'ans' is not defined",
     "output_type": "error",
     "traceback": [
      "\u001b[1;31m---------------------------------------------------------------------------\u001b[0m",
      "\u001b[1;31mNameError\u001b[0m                                 Traceback (most recent call last)",
      "Cell \u001b[1;32mIn[20], line 35\u001b[0m\n\u001b[0;32m     33\u001b[0m         passingstatus\u001b[39m=\u001b[39mpassfail(ans)\n\u001b[0;32m     34\u001b[0m         Result\u001b[39m.\u001b[39mappend(passingstatus)\n\u001b[1;32m---> 35\u001b[0m df\u001b[39m=\u001b[39mpd\u001b[39m.\u001b[39mDataFrame(ans) \n\u001b[0;32m     36\u001b[0m df[\u001b[39m\"\u001b[39m\u001b[39mPercentage\u001b[39m\u001b[39m\"\u001b[39m]\u001b[39m=\u001b[39mpercentage\n\u001b[0;32m     37\u001b[0m df[\u001b[39m\"\u001b[39m\u001b[39mResult\u001b[39m\u001b[39m\"\u001b[39m]\u001b[39m=\u001b[39mResult\n",
      "\u001b[1;31mNameError\u001b[0m: name 'ans' is not defined"
     ]
    }
   ],
   "source": [
    "import pandas as pd\n",
    "student_records={\"roll_no\":[1,2],\"name\":[\"abc\",\"xyz\"],\"physics\":[70,80],\"chemistry\":[80,75],\"Maths\":[82,92]}\n",
    "df=pd.DataFrame(student_records)\n",
    "# print(df)\n",
    "\n",
    "def passfail(ans):\n",
    "    res=\"\"\n",
    "    if ans<35:\n",
    "        res=\"Failed\"\n",
    "        return res\n",
    "    elif ans>34.99 and ans<60:\n",
    "        res=\"Pass\"\n",
    "        return res\n",
    "    elif ans>59.99 and ans<70:\n",
    "        res=\"Passed with Distinction\"\n",
    "        return res\n",
    "\n",
    "# calculating percentages and  result\n",
    "percentage=[]\n",
    "Result=[]\n",
    "pm,cm,mm,marks=[],[],[],[]\n",
    "for i in range(1):\n",
    "    pm=student_records[\"physics\"]\n",
    "    cm=student_records[\"chemistry\"]\n",
    "    mm=student_records[\"Maths\"]\n",
    "    #print(pm,cm,mm)\n",
    "    \n",
    "    for j in range(len(marks)):\n",
    "        # print(marks[j]/2)\n",
    "        ans=round((pm[j]+cm[j]+mm[j])/3,2)\n",
    "        # print(round(ans,2))\n",
    "        percentage.append(ans)\n",
    "        passingstatus=passfail(ans)\n",
    "        Result.append(passingstatus)\n",
    "df=pd.DataFrame(ans) \n",
    "df[\"Percentage\"]=percentage\n",
    "df[\"Result\"]=Result\n",
    "print(df)"
   ]
  },
  {
   "cell_type": "code",
   "execution_count": 29,
   "metadata": {},
   "outputs": [
    {
     "ename": "ValueError",
     "evalue": "Length of values (0) does not match length of index (2)",
     "output_type": "error",
     "traceback": [
      "\u001b[1;31m---------------------------------------------------------------------------\u001b[0m",
      "\u001b[1;31mValueError\u001b[0m                                Traceback (most recent call last)",
      "Cell \u001b[1;32mIn[29], line 40\u001b[0m\n\u001b[0;32m     38\u001b[0m         student\u001b[39m.\u001b[39mappend(passingstatus)\n\u001b[0;32m     39\u001b[0m df\u001b[39m=\u001b[39mpd\u001b[39m.\u001b[39mDataFrame(ans) \n\u001b[1;32m---> 40\u001b[0m df[\u001b[39m\"\u001b[39;49m\u001b[39mPercentage\u001b[39;49m\u001b[39m\"\u001b[39;49m]\u001b[39m=\u001b[39mpercentage\n\u001b[0;32m     41\u001b[0m df[\u001b[39m\"\u001b[39m\u001b[39mResult\u001b[39m\u001b[39m\"\u001b[39m]\u001b[39m=\u001b[39mresult\n\u001b[0;32m     42\u001b[0m \u001b[39mprint\u001b[39m(df)\n",
      "File \u001b[1;32mc:\\Users\\User\\AppData\\Local\\Programs\\Python\\Python311\\Lib\\site-packages\\pandas\\core\\frame.py:3960\u001b[0m, in \u001b[0;36mDataFrame.__setitem__\u001b[1;34m(self, key, value)\u001b[0m\n\u001b[0;32m   3957\u001b[0m     \u001b[39mself\u001b[39m\u001b[39m.\u001b[39m_setitem_array([key], value)\n\u001b[0;32m   3958\u001b[0m \u001b[39melse\u001b[39;00m:\n\u001b[0;32m   3959\u001b[0m     \u001b[39m# set column\u001b[39;00m\n\u001b[1;32m-> 3960\u001b[0m     \u001b[39mself\u001b[39;49m\u001b[39m.\u001b[39;49m_set_item(key, value)\n",
      "File \u001b[1;32mc:\\Users\\User\\AppData\\Local\\Programs\\Python\\Python311\\Lib\\site-packages\\pandas\\core\\frame.py:4153\u001b[0m, in \u001b[0;36mDataFrame._set_item\u001b[1;34m(self, key, value)\u001b[0m\n\u001b[0;32m   4143\u001b[0m \u001b[39mdef\u001b[39;00m \u001b[39m_set_item\u001b[39m(\u001b[39mself\u001b[39m, key, value) \u001b[39m-\u001b[39m\u001b[39m>\u001b[39m \u001b[39mNone\u001b[39;00m:\n\u001b[0;32m   4144\u001b[0m \u001b[39m    \u001b[39m\u001b[39m\"\"\"\u001b[39;00m\n\u001b[0;32m   4145\u001b[0m \u001b[39m    Add series to DataFrame in specified column.\u001b[39;00m\n\u001b[0;32m   4146\u001b[0m \n\u001b[1;32m   (...)\u001b[0m\n\u001b[0;32m   4151\u001b[0m \u001b[39m    ensure homogeneity.\u001b[39;00m\n\u001b[0;32m   4152\u001b[0m \u001b[39m    \"\"\"\u001b[39;00m\n\u001b[1;32m-> 4153\u001b[0m     value \u001b[39m=\u001b[39m \u001b[39mself\u001b[39;49m\u001b[39m.\u001b[39;49m_sanitize_column(value)\n\u001b[0;32m   4155\u001b[0m     \u001b[39mif\u001b[39;00m (\n\u001b[0;32m   4156\u001b[0m         key \u001b[39min\u001b[39;00m \u001b[39mself\u001b[39m\u001b[39m.\u001b[39mcolumns\n\u001b[0;32m   4157\u001b[0m         \u001b[39mand\u001b[39;00m value\u001b[39m.\u001b[39mndim \u001b[39m==\u001b[39m \u001b[39m1\u001b[39m\n\u001b[0;32m   4158\u001b[0m         \u001b[39mand\u001b[39;00m \u001b[39mnot\u001b[39;00m is_extension_array_dtype(value)\n\u001b[0;32m   4159\u001b[0m     ):\n\u001b[0;32m   4160\u001b[0m         \u001b[39m# broadcast across multiple columns if necessary\u001b[39;00m\n\u001b[0;32m   4161\u001b[0m         \u001b[39mif\u001b[39;00m \u001b[39mnot\u001b[39;00m \u001b[39mself\u001b[39m\u001b[39m.\u001b[39mcolumns\u001b[39m.\u001b[39mis_unique \u001b[39mor\u001b[39;00m \u001b[39misinstance\u001b[39m(\u001b[39mself\u001b[39m\u001b[39m.\u001b[39mcolumns, MultiIndex):\n",
      "File \u001b[1;32mc:\\Users\\User\\AppData\\Local\\Programs\\Python\\Python311\\Lib\\site-packages\\pandas\\core\\frame.py:4880\u001b[0m, in \u001b[0;36mDataFrame._sanitize_column\u001b[1;34m(self, value)\u001b[0m\n\u001b[0;32m   4877\u001b[0m     \u001b[39mreturn\u001b[39;00m _reindex_for_setitem(Series(value), \u001b[39mself\u001b[39m\u001b[39m.\u001b[39mindex)\n\u001b[0;32m   4879\u001b[0m \u001b[39mif\u001b[39;00m is_list_like(value):\n\u001b[1;32m-> 4880\u001b[0m     com\u001b[39m.\u001b[39;49mrequire_length_match(value, \u001b[39mself\u001b[39;49m\u001b[39m.\u001b[39;49mindex)\n\u001b[0;32m   4881\u001b[0m \u001b[39mreturn\u001b[39;00m sanitize_array(value, \u001b[39mself\u001b[39m\u001b[39m.\u001b[39mindex, copy\u001b[39m=\u001b[39m\u001b[39mTrue\u001b[39;00m, allow_2d\u001b[39m=\u001b[39m\u001b[39mTrue\u001b[39;00m)\n",
      "File \u001b[1;32mc:\\Users\\User\\AppData\\Local\\Programs\\Python\\Python311\\Lib\\site-packages\\pandas\\core\\common.py:576\u001b[0m, in \u001b[0;36mrequire_length_match\u001b[1;34m(data, index)\u001b[0m\n\u001b[0;32m    572\u001b[0m \u001b[39m\u001b[39m\u001b[39m\"\"\"\u001b[39;00m\n\u001b[0;32m    573\u001b[0m \u001b[39mCheck the length of data matches the length of the index.\u001b[39;00m\n\u001b[0;32m    574\u001b[0m \u001b[39m\"\"\"\u001b[39;00m\n\u001b[0;32m    575\u001b[0m \u001b[39mif\u001b[39;00m \u001b[39mlen\u001b[39m(data) \u001b[39m!=\u001b[39m \u001b[39mlen\u001b[39m(index):\n\u001b[1;32m--> 576\u001b[0m     \u001b[39mraise\u001b[39;00m \u001b[39mValueError\u001b[39;00m(\n\u001b[0;32m    577\u001b[0m         \u001b[39m\"\u001b[39m\u001b[39mLength of values \u001b[39m\u001b[39m\"\u001b[39m\n\u001b[0;32m    578\u001b[0m         \u001b[39mf\u001b[39m\u001b[39m\"\u001b[39m\u001b[39m(\u001b[39m\u001b[39m{\u001b[39;00m\u001b[39mlen\u001b[39m(data)\u001b[39m}\u001b[39;00m\u001b[39m) \u001b[39m\u001b[39m\"\u001b[39m\n\u001b[0;32m    579\u001b[0m         \u001b[39m\"\u001b[39m\u001b[39mdoes not match length of index \u001b[39m\u001b[39m\"\u001b[39m\n\u001b[0;32m    580\u001b[0m         \u001b[39mf\u001b[39m\u001b[39m\"\u001b[39m\u001b[39m(\u001b[39m\u001b[39m{\u001b[39;00m\u001b[39mlen\u001b[39m(index)\u001b[39m}\u001b[39;00m\u001b[39m)\u001b[39m\u001b[39m\"\u001b[39m\n\u001b[0;32m    581\u001b[0m     )\n",
      "\u001b[1;31mValueError\u001b[0m: Length of values (0) does not match length of index (2)"
     ]
    }
   ],
   "source": [
    "import pandas as pd\n",
    "student={\"roll_no\":[1,2],\n",
    "     \"name\":[\"abc\",\"xyz\"],\n",
    "     \"physics\":[70,80],\n",
    "     \"chemistry\":[80,75],\n",
    "     \"Maths\":[82,92]}\n",
    "#df=pd.DataFrame(student_records)\n",
    "# print(df)\n",
    "\n",
    "def passfail(student):\n",
    "    result=\"\"\n",
    "    if (student<35):\n",
    "        result= \"Failed\"\n",
    "        return result\n",
    "    elif (student>34.99 and student<60):\n",
    "        result= \"Pass\"\n",
    "        return result\n",
    "    elif (student>59.99 and student<70):\n",
    "        result= \"Passed with Distinction\"\n",
    "        return result\n",
    "\n",
    "# calculating percentages and  result\n",
    "percentage=[]\n",
    "student_record=[]\n",
    "pm,cm,mm,marks=[],[],[],[]\n",
    "for i in range(1):\n",
    "    pm=student[\"physics\"]\n",
    "    cm=student[\"chemistry\"]\n",
    "    mm=student[\"Maths\"]\n",
    "    #print(pm,cm,mm)\n",
    "    \n",
    "    for j in range(len(marks)):\n",
    "        # print(marks[j]/2)\n",
    "        ans=round((pm[j]+cm[j]+mm[j])/3,2)\n",
    "        # print(round(ans,2))\n",
    "        percentage.append(ans)\n",
    "        passingstatus=passfail(ans)\n",
    "        student.append(passingstatus)\n",
    "df=pd.DataFrame(ans) \n",
    "df[\"Percentage\"]=percentage\n",
    "df[\"Result\"]=result\n",
    "print(df)"
   ]
  }
 ],
 "metadata": {
  "kernelspec": {
   "display_name": "Python 3",
   "language": "python",
   "name": "python3"
  },
  "language_info": {
   "codemirror_mode": {
    "name": "ipython",
    "version": 3
   },
   "file_extension": ".py",
   "mimetype": "text/x-python",
   "name": "python",
   "nbconvert_exporter": "python",
   "pygments_lexer": "ipython3",
   "version": "3.11.3"
  },
  "orig_nbformat": 4
 },
 "nbformat": 4,
 "nbformat_minor": 2
}
